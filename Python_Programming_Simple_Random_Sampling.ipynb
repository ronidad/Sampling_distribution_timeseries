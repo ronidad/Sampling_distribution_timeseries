{
  "nbformat": 4,
  "nbformat_minor": 2,
  "metadata": {
    "colab": {
      "name": "Python Programming: Simple Random Sampling",
      "provenance": [],
      "collapsed_sections": [
        "s0-xi8v6eATI",
        "c2SS_SWaQXE2",
        "cSWmgSy3SV5D",
        "RcV5DlN5R2uh",
        "PA5HaWPvTALQ",
        "BeUYGvGhTsm1",
        "bNWFLKL-gRTO",
        "kV0dRO0nUJzL",
        "0gGIBBpggZT2",
        "DwOtPvA3UnHf",
        "LZgY26bsgfJv",
        "-22NquhoWF7l",
        "8QVs13BcYJpm"
      ],
      "toc_visible": true
    },
    "kernelspec": {
      "name": "python3",
      "display_name": "Python 3.8.5 64-bit ('base': conda)"
    },
    "language_info": {
      "name": "python",
      "version": "3.8.5",
      "mimetype": "text/x-python",
      "codemirror_mode": {
        "name": "ipython",
        "version": 3
      },
      "pygments_lexer": "ipython3",
      "nbconvert_exporter": "python",
      "file_extension": ".py"
    },
    "interpreter": {
      "hash": "8e24f623c9d976e65e43b538ecbbc4d478524c94015e92b14b460358aba5245a"
    }
  },
  "cells": [
    {
      "cell_type": "markdown",
      "source": [
        "<font color=\"green\">To start working on this notebook, or any other notebook that we will use in the Moringa Data Science Course, we will need to save our own copy of it. We can do this by clicking File > Save a Copy in Drive. We will then be able to make edits to our own copy of this notebook.</font>"
      ],
      "metadata": {
        "id": "YutBgvuBdPHi"
      }
    },
    {
      "cell_type": "markdown",
      "source": [
        "# Python Programming:  Simple Random Sampling\n"
      ],
      "metadata": {
        "id": "5zn7dG78QUoE"
      }
    },
    {
      "cell_type": "markdown",
      "source": [
        "## Importing our Libraries"
      ],
      "metadata": {
        "id": "s0-xi8v6eATI"
      }
    },
    {
      "cell_type": "code",
      "execution_count": 1,
      "source": [
        "# importing numpy\r\n",
        "import numpy as np\r\n",
        "\r\n",
        "# importing pandas\r\n",
        "import pandas as pd\r\n",
        "\r\n",
        "# importing random module\r\n",
        "# we will use random.sample() function to return a k length \r\n",
        "# list of unique elements chosen from our population\r\n",
        "import random"
      ],
      "outputs": [],
      "metadata": {
        "id": "suQkBJ4BTRWv"
      }
    },
    {
      "cell_type": "markdown",
      "source": [
        "## 1.0 Selecting More than One item from a List"
      ],
      "metadata": {
        "id": "c2SS_SWaQXE2"
      }
    },
    {
      "cell_type": "code",
      "execution_count": 2,
      "source": [
        "# Example 1\r\n",
        "# ---\r\n",
        "# Selecting more than one item from a list \r\n",
        "# ---\r\n",
        "#\r\n",
        "\r\n",
        "list = [20, 40, 80, 100, 120]\r\n",
        "print (\"Choosing 3 random items from a list using sample function\", random.sample(list, k=3))\r\n",
        "\r\n",
        "list = [20, 40, 20, 20, 20]\r\n",
        "print (\"Choosing 3 random items from a list using sample function\",random.sample(list, k=3))\r\n",
        "\r\n",
        "# As you can see we pass k=3 to choose 3 random elements from a list. \r\n",
        "# In return, we got a list of 3 random items."
      ],
      "outputs": [
        {
          "output_type": "stream",
          "name": "stdout",
          "text": [
            "Choosing 3 random items from a list using sample function [100, 80, 40]\n",
            "Choosing 3 random items from a list using sample function [40, 20, 20]\n"
          ]
        }
      ],
      "metadata": {
        "id": "ttRODtArQMVS"
      }
    },
    {
      "cell_type": "markdown",
      "source": [
        "### <font color=\"green\"> 1.0 Challenges</font>"
      ],
      "metadata": {
        "id": "cSWmgSy3SV5D"
      }
    },
    {
      "cell_type": "code",
      "execution_count": 9,
      "source": [
        "# Challenge 1\r\n",
        "# ---\r\n",
        "# Question: Create a list containing 10 counties in Kenya \r\n",
        "# then select 2 random counties from the list.\r\n",
        "# ---\r\n",
        "# \r\n",
        "counties = ['Nairobi', 'Machakos','Nyamira','Kisii','Nyeri','Muranga','Isiolo','Mombasa' ]\r\n",
        "random.sample(counties, k=2)"
      ],
      "outputs": [
        {
          "output_type": "execute_result",
          "data": {
            "text/plain": [
              "['Muranga', 'Nyeri']"
            ]
          },
          "metadata": {},
          "execution_count": 9
        }
      ],
      "metadata": {
        "id": "Ga8D2XvfRFaP"
      }
    },
    {
      "cell_type": "markdown",
      "source": [
        "## 2.0  Selecting the Random Sample from Dictionary"
      ],
      "metadata": {
        "id": "RcV5DlN5R2uh"
      }
    },
    {
      "cell_type": "code",
      "execution_count": 11,
      "source": [
        "# Example 1\r\n",
        "# ---\r\n",
        "# We can select a random key-value pair from the dictionary as shown \r\n",
        "# ---\r\n",
        "#\r\n",
        "marks_dict = {\r\n",
        "  \"Kelly\": 55,\r\n",
        "  \"jhon\": 70,\r\n",
        "  \"Donald\": 60,\r\n",
        "  \"Lennin\" :50\r\n",
        "}\r\n",
        "\r\n",
        "print (\"Choosing 2 random items from a dictionary using sample method \", random.sample(marks_dict.items(), k=2))"
      ],
      "outputs": [
        {
          "output_type": "stream",
          "name": "stdout",
          "text": [
            "Choosing 2 random items from a dictionary using sample method  [('Kelly', 55), ('Donald', 60)]\n"
          ]
        }
      ],
      "metadata": {
        "id": "yerkTFAPSIlT"
      }
    },
    {
      "cell_type": "markdown",
      "source": [
        "### <font color=\"green\">2.0 Challenges</font>"
      ],
      "metadata": {
        "id": "PA5HaWPvTALQ"
      }
    },
    {
      "cell_type": "code",
      "execution_count": null,
      "source": [
        "# Challenge 1\r\n",
        "# ---\r\n",
        "# A caterer offers three different food packages; \r\n",
        "# bronze package: starch:rice stew:chicken curry vegetable:cabbages desert:melon\r\n",
        "# silver package: starch:rice and chappati  stew:beef curry vegetable:spinach desert:melon and bananas\r\n",
        "# gold package: starch:rice, chappati and mukimo stew: beef curry vegetable:spinach and managu desert: tart\r\n",
        "# Create a dictionary that stores the above information and select a sample of size 2 \r\n",
        "# ---\r\n",
        "#\r\n"
      ],
      "outputs": [],
      "metadata": {
        "id": "GZimMc1TSSGU"
      }
    },
    {
      "cell_type": "markdown",
      "source": [
        "## 3.0 Selecting a Random Sample with Replacement to including repetition\n"
      ],
      "metadata": {
        "id": "BeUYGvGhTsm1"
      }
    },
    {
      "cell_type": "code",
      "execution_count": null,
      "source": [
        "# Example 1\r\n",
        "# ---\r\n",
        "# We can select a random sample with replacement to include repetition as shown below\r\n",
        "# ---\r\n",
        "# \r\n",
        "names = [\"Roger\", \"Nadal\", \"Novac\", \"Andre\", \"Sarena\", \"Mariya\", \"Martina\"]\r\n",
        "\r\n",
        "print(\"random sample with replacement to including repetition \", random.choices(names, k=3))"
      ],
      "outputs": [],
      "metadata": {
        "id": "9lDLmuqyT0DH"
      }
    },
    {
      "cell_type": "markdown",
      "source": [
        "### <font color=\"green\">3.0 Challenges</font>"
      ],
      "metadata": {
        "id": "bNWFLKL-gRTO"
      }
    },
    {
      "cell_type": "code",
      "execution_count": null,
      "source": [
        "# Challenge 1\r\n",
        "# ---\r\n",
        "# Question: Select a random sample of 3 with replacement to include replacement from the \r\n",
        "# following list of months\r\n",
        "# ---\r\n",
        "#\r\n",
        "\r\n",
        "months = ['January', 'February', 'March', 'April', 'May', 'June', 'July',\r\n",
        "          'August', 'September', 'October', 'November', 'December']\r\n",
        "\r\n",
        "OUR CODE GOES HERE"
      ],
      "outputs": [],
      "metadata": {
        "id": "OYjj3osOUCC3"
      }
    },
    {
      "cell_type": "markdown",
      "source": [
        "## 4.0 Selecting a Random Sample from a Range of Integers"
      ],
      "metadata": {
        "id": "kV0dRO0nUJzL"
      }
    },
    {
      "cell_type": "code",
      "execution_count": null,
      "source": [
        "# Example 1\r\n",
        "# ---\r\n",
        "# We can select a random sample from a range of integers as shown below\r\n",
        "# ---\r\n",
        "# \r\n",
        "\r\n",
        "weight_set = {40, 50, 55, 65, 75, 80}\r\n",
        "\r\n",
        "print (\"Choosing 4 random items from a set \", random.sample(weight_set, k=4))"
      ],
      "outputs": [],
      "metadata": {
        "id": "HBqhmibxUIgt"
      }
    },
    {
      "cell_type": "markdown",
      "source": [
        "### <font color=\"green\">4.1 Challenges</font>"
      ],
      "metadata": {
        "id": "0gGIBBpggZT2"
      }
    },
    {
      "cell_type": "code",
      "execution_count": null,
      "source": [
        "# Challenge 1\r\n",
        "# ---\r\n",
        "# Question: Select a random sample from a range of integers as shown below\r\n",
        "# --- \r\n",
        "# \r\n",
        "weight_set = {4, 5, 6, 7, 8, 9, 10}\r\n",
        "\r\n",
        "OUR CODE GOES HERE"
      ],
      "outputs": [],
      "metadata": {
        "id": "IIAkil2VUjuI"
      }
    },
    {
      "cell_type": "markdown",
      "source": [
        "## 5.0 Selecting a Sample Array from a Large multidimensional Array\n",
        "\n"
      ],
      "metadata": {
        "id": "DwOtPvA3UnHf"
      }
    },
    {
      "cell_type": "code",
      "execution_count": null,
      "source": [
        "# Example 1\n",
        "# ---\n",
        "# We can select a sample array from a large multidimensional array as shown\n",
        "# ---\n",
        "# \n",
        "\n",
        "array = np.array([[2 ,4, 6], [5, 10, 15], [6, 12, 18], [7, 14, 21], [8, 16, 24]]) \n",
        "print(\"Printing 2D Array\")\n",
        "print(array)\n",
        "\n",
        "# selecting multiple random rows from the 2D as shown\n",
        "print(\"Selecting multiple random rows from the 2D array\")\n",
        "randomRows = np.random.randint(5, size=2)\n",
        "for i in randomRows:\n",
        "  print(array[i,:])"
      ],
      "outputs": [],
      "metadata": {
        "id": "RxtsWbUtU2cW"
      }
    },
    {
      "cell_type": "markdown",
      "source": [
        "### <font color=\"green\">5.0 Challenges</font>"
      ],
      "metadata": {
        "id": "LZgY26bsgfJv"
      }
    },
    {
      "cell_type": "code",
      "execution_count": null,
      "source": [
        "# Challenge 1\n",
        "# ---\n",
        "# Question: Select two arrays from the given multidimensional array\n",
        "# ---\n",
        "# \n",
        "\n",
        "a = [[2, 4, 6, 8, 10], [3, 6, 9, 12, 15], [4, 8, 12, 16, 20], [1 ,2 , 4, 5, 6], [5, 10, 15, 20, 25], [6, 12, 18, 24, 30], [7, 14, 21, 28, 35]]  \n",
        "\n",
        "OUR CODE GOES HERE"
      ],
      "outputs": [],
      "metadata": {
        "id": "mJt1ePbSVR9j"
      }
    },
    {
      "cell_type": "markdown",
      "source": [
        "## 6.0 Selecting Random Samples from a Dataset"
      ],
      "metadata": {
        "id": "-22NquhoWF7l"
      }
    },
    {
      "cell_type": "code",
      "execution_count": null,
      "source": [
        "# Example 1\n",
        "# ---\n",
        "# Selecting a random sample from the following medical appointments dataset\n",
        "# ---\n",
        "# Dataset url = http://bit.ly/MedicalAppointmentsDataset\n",
        "# ---\n",
        "# \n",
        "\n",
        "# Loading the dataset\n",
        "medical_df = pd.read_csv(\"http://bit.ly/MedicalAppointmentsDataset\")\n",
        "\n",
        "# Determining the size\n",
        "print(medical_df.shape)\n",
        "\n",
        "\n",
        "# Previewing the dataset\n",
        "print(medical_df.head())\n",
        "\n",
        "# Selecting the sample \n",
        "medical_sample = medical_df.sample(n = 10, replace=\"False\")\n",
        "print(medical_sample)"
      ],
      "outputs": [],
      "metadata": {
        "id": "gimbl5z3Waat"
      }
    },
    {
      "cell_type": "markdown",
      "source": [
        "### <font color=\"green\">6.0 Challenges </font>"
      ],
      "metadata": {
        "id": "8QVs13BcYJpm"
      }
    },
    {
      "cell_type": "code",
      "execution_count": null,
      "source": [
        "# Challenge 1\n",
        "# ---\n",
        "# Select a random sample of 10 from the given dataset below \n",
        "# ---\n",
        "# Dataset url = http://bit.ly/DSRussianInvestigation\n",
        "# ---\n",
        "#\n",
        "OUR CODE GOES HERE"
      ],
      "outputs": [],
      "metadata": {
        "id": "VZEi6JOnXJNt"
      }
    },
    {
      "cell_type": "code",
      "execution_count": null,
      "source": [
        "# Challenge 2\n",
        "# ---\n",
        "# A medical company would like to follow up with 50 patients who never showed up for appointments \n",
        "# but received an sms. Select a random sample from such patients given the medical dataset below \n",
        "# ---\n",
        "# Dataset url = http://bit.ly/MedicalAppointmentsDataset\n",
        "# ---\n",
        "#\n",
        "OUR CODE GOES HERE"
      ],
      "outputs": [],
      "metadata": {
        "id": "WZgm88i7YTRf"
      }
    }
  ]
}