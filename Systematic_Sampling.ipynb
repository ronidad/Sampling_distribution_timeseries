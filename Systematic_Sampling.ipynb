{
  "nbformat": 4,
  "nbformat_minor": 2,
  "metadata": {
    "colab": {
      "name": "Python Programming: Systematic Sampling",
      "provenance": [],
      "collapsed_sections": [
        "EFtAnH9J3KfI",
        "mwlCRJBF3RMg"
      ],
      "toc_visible": true
    },
    "kernelspec": {
      "name": "python3",
      "display_name": "Python 3.8.5 64-bit ('base': conda)"
    },
    "language_info": {
      "name": "python",
      "version": "3.8.5",
      "mimetype": "text/x-python",
      "codemirror_mode": {
        "name": "ipython",
        "version": 3
      },
      "pygments_lexer": "ipython3",
      "nbconvert_exporter": "python",
      "file_extension": ".py"
    },
    "interpreter": {
      "hash": "8e24f623c9d976e65e43b538ecbbc4d478524c94015e92b14b460358aba5245a"
    }
  },
  "cells": [
    {
      "cell_type": "code",
      "execution_count": null,
      "source": [],
      "outputs": [],
      "metadata": {}
    },
    {
      "cell_type": "markdown",
      "source": [
        "<font color=\"green\">*To start working on this notebook, or any other notebook that we will use in the Moringa Data Science Course, we will need to save our own copy of it. We can do this by clicking File > Save a Copy in Drive. We will then be able to make edits to our own copy of this notebook.*</font>"
      ],
      "metadata": {
        "id": "MlNybiHKK7F5"
      }
    },
    {
      "cell_type": "markdown",
      "source": [
        "# Python Programming: Systematic Sampling"
      ],
      "metadata": {
        "id": "xS3olmMl3IvK"
      }
    },
    {
      "cell_type": "code",
      "execution_count": 71,
      "source": [
        "# Importing Numpy\r\n",
        "#\r\n",
        "import numpy as np\r\n",
        "import pandas as pd"
      ],
      "outputs": [],
      "metadata": {
        "id": "PIf6oV4XIyXJ"
      }
    },
    {
      "cell_type": "markdown",
      "source": [
        "## Examples "
      ],
      "metadata": {
        "id": "EFtAnH9J3KfI"
      }
    },
    {
      "cell_type": "code",
      "execution_count": 42,
      "source": [
        "# Example 1\r\n",
        "# ---\r\n",
        "# The idea in systematic sampling is that, given the population units numbered from 1 to  N , \r\n",
        "# we compute for the sampling interval, given by  k=N/n , where  n  is the number of units needed for the sample. \r\n",
        "# After that, we choose for the random start, number between  1  and  k. \r\n",
        "# This random start will be the first sample, and then the second unit in the sample is obtained by adding \r\n",
        "# the sampling interval to the random start, and so on. \r\n",
        "# There are two types of systematic sampling namely, linear and circular systematic samplings. \r\n",
        "# Circular systematic sampling treats the population units numbered from  1  to  N  in circular form,\r\n",
        "# so that if the increment step is more than the number of  N  units, say  N+2 , \r\n",
        "# the sample unit is the  2nd element in the population, and so on. \r\n",
        "# The code that we will working with can be used both for linear and circular. \r\n",
        "# Since there are rules in linear that are not satisfied in the function, \r\n",
        "# one of which is if  k  is not a whole number, despite that, however, we can always extend it to a more general function.\r\n",
        "# ---\r\n",
        "# Question: Perform systematic sampling given the following dataset:\r\n",
        "# ---\r\n",
        "#\r\n",
        "\r\n",
        "# The data\r\n",
        "sal_dat = np.array([25, 15, 20, 25, 18, 12, 24, 30, 15, 20, 10, 10, 11, 14, 22, 16])\r\n",
        "salary = sal_dat * 1000\r\n",
        "\r\n",
        "# Function for systematic sampling\r\n",
        "\r\n",
        "\r\n",
        "\r\n",
        "def sys_sample(df, r, n):\r\n",
        "    k = df.shape[0] // n\r\n",
        "\r\n",
        "    b = [None] * n; a = r\r\n",
        "    b[0] = a\r\n",
        "\r\n",
        "    for i in np.arange(1, n):\r\n",
        "        a = a + k\r\n",
        "\r\n",
        "        if a > df.shape[0]:\r\n",
        "            a = a - df.shape[0]\r\n",
        "\r\n",
        "        b[i] = a\r\n",
        "\r\n",
        "    return {\"Data\" : df[b], \"Index\" : b, \"K\" : k}\r\n",
        "\r\n",
        "# Do the sampling for random start,\r\n",
        "# r = 2, and number of sample, n = 4\r\n",
        "sys_sample(salary, r = 4, n = 6)"
      ],
      "outputs": [
        {
          "output_type": "execute_result",
          "data": {
            "text/plain": [
              "{'Data': array([18000, 24000, 15000, 10000, 11000, 22000]),\n",
              " 'Index': [4, 6, 8, 10, 12, 14],\n",
              " 'K': 2}"
            ]
          },
          "metadata": {},
          "execution_count": 42
        }
      ],
      "metadata": {
        "id": "bzTGRvaN3EQH",
        "colab": {
          "base_uri": "https://localhost:8080/",
          "height": 68
        },
        "outputId": "72fa59c3-8841-417a-e622-32421103f7f6"
      }
    },
    {
      "cell_type": "code",
      "execution_count": 59,
      "source": [
        "def systematic_sampling(df,r,n):\r\n",
        "    step=df.shape[0]//n\r\n",
        "    indexes = np.arange(start=r, stop= len(df), step=step)\r\n",
        "    systematic_sample = df[indexes]\r\n",
        "    return systematic_sample#, indexes\r\n",
        "    \r\n",
        "systematic_sampling(salary,4,6)\r\n"
      ],
      "outputs": [
        {
          "output_type": "execute_result",
          "data": {
            "text/plain": [
              "array([18000, 24000, 15000, 10000, 11000, 22000])"
            ]
          },
          "metadata": {},
          "execution_count": 59
        }
      ],
      "metadata": {}
    },
    {
      "cell_type": "markdown",
      "source": [
        "## <font color=\"green\">Challenges</font>"
      ],
      "metadata": {
        "id": "mwlCRJBF3RMg"
      }
    },
    {
      "cell_type": "code",
      "execution_count": 51,
      "source": [
        "# Challenge 1\r\n",
        "# ---\r\n",
        "# Question: Peform systematic sampling given the following dataset \r\n",
        "# ---\r\n",
        "# Dataset = [33 34 35 36 37 38 39 40 41 42 43 44 45 46 47 48 49 50 51 52 53 54 55 56 57 58 59 60 61 62 63 64 65 66 67 68 69 70 71 72 73 74 75 76 77 78 79]\r\n",
        "# Dataset\r\n"
      ],
      "outputs": [],
      "metadata": {
        "id": "7e4Fjx1p3WbB"
      }
    },
    {
      "cell_type": "code",
      "execution_count": 61,
      "source": [
        "# Challenge 2\r\n",
        "# ---\r\n",
        "# Question: You're given data ranging from 175 to 1000. Select a sample from this data by performing systematic sampling.\r\n",
        "# ---\r\n",
        "# \r\n",
        "numbers = np.arange(175,1000)\r\n",
        "\r\n",
        "systematic_sampling(numbers,100,5)"
      ],
      "outputs": [
        {
          "output_type": "execute_result",
          "data": {
            "text/plain": [
              "array([275, 440, 605, 770, 935])"
            ]
          },
          "metadata": {},
          "execution_count": 61
        }
      ],
      "metadata": {
        "id": "F0EGvPx13aL5"
      }
    },
    {
      "cell_type": "code",
      "execution_count": 68,
      "source": [
        "# Challenge 3\r\n",
        "# ---\r\n",
        "# Question: There are 19 students in this class. Let’s choose a 1-in-3 systematic sample from the 19 students in the class.\r\n",
        "# ---\r\n",
        "# \r\n",
        "students = np.arange(1,20)\r\n",
        "students\r\n",
        "systematic_sampling(students,0,7)"
      ],
      "outputs": [
        {
          "output_type": "execute_result",
          "data": {
            "text/plain": [
              "array([ 1,  3,  5,  7,  9, 11, 13, 15, 17, 19])"
            ]
          },
          "metadata": {},
          "execution_count": 68
        }
      ],
      "metadata": {
        "id": "R-LUyacy3cC8"
      }
    },
    {
      "cell_type": "code",
      "execution_count": 70,
      "source": [
        "# Challenge 4\r\n",
        "# ---\r\n",
        "# Question: Select a sample from n = 12 members from a population of size N = 287. \r\n",
        "# ---\r\n",
        "# \r\n",
        "pop = np.arange(1,288)\r\n",
        "pop\r\n",
        "systematic_sampling(pop,1,12)"
      ],
      "outputs": [
        {
          "output_type": "execute_result",
          "data": {
            "text/plain": [
              "array([  2,  25,  48,  71,  94, 117, 140, 163, 186, 209, 232, 255, 278])"
            ]
          },
          "metadata": {},
          "execution_count": 70
        }
      ],
      "metadata": {
        "id": "PPCASa_7_O1Y"
      }
    },
    {
      "cell_type": "code",
      "execution_count": 75,
      "source": [
        "# Challenge 5\r\n",
        "# ---\r\n",
        "# Question: You work for the Olympics Data Analytics in Geneva and would like perform a study on the performance of the top marathon\r\n",
        "# olympics athletes. For reasons beyond your control, resort to perform systematic sampling from the given Boston 2017 marathon dataset.\r\n",
        "# ---\r\n",
        "# Question: http://bit.ly/BostonMarathonDataset\r\n",
        "# ---\r\n",
        "# \r\n",
        "boston = pd.read_csv('marathon.csv')\r\n",
        "boston\r\n",
        "#systematic_sampling(boston,0,10)"
      ],
      "outputs": [
        {
          "output_type": "execute_result",
          "data": {
            "text/html": [
              "<div>\n",
              "<style scoped>\n",
              "    .dataframe tbody tr th:only-of-type {\n",
              "        vertical-align: middle;\n",
              "    }\n",
              "\n",
              "    .dataframe tbody tr th {\n",
              "        vertical-align: top;\n",
              "    }\n",
              "\n",
              "    .dataframe thead th {\n",
              "        text-align: right;\n",
              "    }\n",
              "</style>\n",
              "<table border=\"1\" class=\"dataframe\">\n",
              "  <thead>\n",
              "    <tr style=\"text-align: right;\">\n",
              "      <th></th>\n",
              "      <th>Unnamed: 0</th>\n",
              "      <th>Bib</th>\n",
              "      <th>Name</th>\n",
              "      <th>Age</th>\n",
              "      <th>M/F</th>\n",
              "      <th>City</th>\n",
              "      <th>State</th>\n",
              "      <th>Country</th>\n",
              "      <th>Citizen</th>\n",
              "      <th>Unnamed: 9</th>\n",
              "      <th>...</th>\n",
              "      <th>25K</th>\n",
              "      <th>30K</th>\n",
              "      <th>35K</th>\n",
              "      <th>40K</th>\n",
              "      <th>Pace</th>\n",
              "      <th>Proj Time</th>\n",
              "      <th>Official Time</th>\n",
              "      <th>Overall</th>\n",
              "      <th>Gender</th>\n",
              "      <th>Division</th>\n",
              "    </tr>\n",
              "  </thead>\n",
              "  <tbody>\n",
              "    <tr>\n",
              "      <th>0</th>\n",
              "      <td>0</td>\n",
              "      <td>11</td>\n",
              "      <td>Kirui, Geoffrey</td>\n",
              "      <td>24</td>\n",
              "      <td>M</td>\n",
              "      <td>Keringet</td>\n",
              "      <td>NaN</td>\n",
              "      <td>KEN</td>\n",
              "      <td>NaN</td>\n",
              "      <td>NaN</td>\n",
              "      <td>...</td>\n",
              "      <td>1:16:59</td>\n",
              "      <td>1:33:01</td>\n",
              "      <td>1:48:19</td>\n",
              "      <td>2:02:53</td>\n",
              "      <td>0:04:57</td>\n",
              "      <td>-</td>\n",
              "      <td>2:09:37</td>\n",
              "      <td>1</td>\n",
              "      <td>1</td>\n",
              "      <td>1</td>\n",
              "    </tr>\n",
              "    <tr>\n",
              "      <th>1</th>\n",
              "      <td>1</td>\n",
              "      <td>17</td>\n",
              "      <td>Rupp, Galen</td>\n",
              "      <td>30</td>\n",
              "      <td>M</td>\n",
              "      <td>Portland</td>\n",
              "      <td>OR</td>\n",
              "      <td>USA</td>\n",
              "      <td>NaN</td>\n",
              "      <td>NaN</td>\n",
              "      <td>...</td>\n",
              "      <td>1:16:59</td>\n",
              "      <td>1:33:01</td>\n",
              "      <td>1:48:19</td>\n",
              "      <td>2:03:14</td>\n",
              "      <td>0:04:58</td>\n",
              "      <td>-</td>\n",
              "      <td>2:09:58</td>\n",
              "      <td>2</td>\n",
              "      <td>2</td>\n",
              "      <td>2</td>\n",
              "    </tr>\n",
              "    <tr>\n",
              "      <th>2</th>\n",
              "      <td>2</td>\n",
              "      <td>23</td>\n",
              "      <td>Osako, Suguru</td>\n",
              "      <td>25</td>\n",
              "      <td>M</td>\n",
              "      <td>Machida-City</td>\n",
              "      <td>NaN</td>\n",
              "      <td>JPN</td>\n",
              "      <td>NaN</td>\n",
              "      <td>NaN</td>\n",
              "      <td>...</td>\n",
              "      <td>1:17:00</td>\n",
              "      <td>1:33:01</td>\n",
              "      <td>1:48:31</td>\n",
              "      <td>2:03:38</td>\n",
              "      <td>0:04:59</td>\n",
              "      <td>-</td>\n",
              "      <td>2:10:28</td>\n",
              "      <td>3</td>\n",
              "      <td>3</td>\n",
              "      <td>3</td>\n",
              "    </tr>\n",
              "    <tr>\n",
              "      <th>3</th>\n",
              "      <td>3</td>\n",
              "      <td>21</td>\n",
              "      <td>Biwott, Shadrack</td>\n",
              "      <td>32</td>\n",
              "      <td>M</td>\n",
              "      <td>Mammoth Lakes</td>\n",
              "      <td>CA</td>\n",
              "      <td>USA</td>\n",
              "      <td>NaN</td>\n",
              "      <td>NaN</td>\n",
              "      <td>...</td>\n",
              "      <td>1:17:00</td>\n",
              "      <td>1:33:01</td>\n",
              "      <td>1:48:58</td>\n",
              "      <td>2:04:35</td>\n",
              "      <td>0:05:03</td>\n",
              "      <td>-</td>\n",
              "      <td>2:12:08</td>\n",
              "      <td>4</td>\n",
              "      <td>4</td>\n",
              "      <td>4</td>\n",
              "    </tr>\n",
              "    <tr>\n",
              "      <th>4</th>\n",
              "      <td>4</td>\n",
              "      <td>9</td>\n",
              "      <td>Chebet, Wilson</td>\n",
              "      <td>31</td>\n",
              "      <td>M</td>\n",
              "      <td>Marakwet</td>\n",
              "      <td>NaN</td>\n",
              "      <td>KEN</td>\n",
              "      <td>NaN</td>\n",
              "      <td>NaN</td>\n",
              "      <td>...</td>\n",
              "      <td>1:16:59</td>\n",
              "      <td>1:33:01</td>\n",
              "      <td>1:48:41</td>\n",
              "      <td>2:05:00</td>\n",
              "      <td>0:05:04</td>\n",
              "      <td>-</td>\n",
              "      <td>2:12:35</td>\n",
              "      <td>5</td>\n",
              "      <td>5</td>\n",
              "      <td>5</td>\n",
              "    </tr>\n",
              "    <tr>\n",
              "      <th>...</th>\n",
              "      <td>...</td>\n",
              "      <td>...</td>\n",
              "      <td>...</td>\n",
              "      <td>...</td>\n",
              "      <td>...</td>\n",
              "      <td>...</td>\n",
              "      <td>...</td>\n",
              "      <td>...</td>\n",
              "      <td>...</td>\n",
              "      <td>...</td>\n",
              "      <td>...</td>\n",
              "      <td>...</td>\n",
              "      <td>...</td>\n",
              "      <td>...</td>\n",
              "      <td>...</td>\n",
              "      <td>...</td>\n",
              "      <td>...</td>\n",
              "      <td>...</td>\n",
              "      <td>...</td>\n",
              "      <td>...</td>\n",
              "      <td>...</td>\n",
              "    </tr>\n",
              "    <tr>\n",
              "      <th>26405</th>\n",
              "      <td>26405</td>\n",
              "      <td>25166</td>\n",
              "      <td>Steinbach, Paula Eyvonne</td>\n",
              "      <td>61</td>\n",
              "      <td>F</td>\n",
              "      <td>Ontario</td>\n",
              "      <td>CA</td>\n",
              "      <td>USA</td>\n",
              "      <td>NaN</td>\n",
              "      <td>MI</td>\n",
              "      <td>...</td>\n",
              "      <td>4:12:06</td>\n",
              "      <td>5:03:08</td>\n",
              "      <td>5:55:18</td>\n",
              "      <td>6:46:57</td>\n",
              "      <td>0:16:24</td>\n",
              "      <td>-</td>\n",
              "      <td>7:09:39</td>\n",
              "      <td>26407</td>\n",
              "      <td>11972</td>\n",
              "      <td>344</td>\n",
              "    </tr>\n",
              "    <tr>\n",
              "      <th>26406</th>\n",
              "      <td>26406</td>\n",
              "      <td>25178</td>\n",
              "      <td>Avelino, Andrew R.</td>\n",
              "      <td>25</td>\n",
              "      <td>M</td>\n",
              "      <td>Fayetteville</td>\n",
              "      <td>NC</td>\n",
              "      <td>USA</td>\n",
              "      <td>NaN</td>\n",
              "      <td>MI</td>\n",
              "      <td>...</td>\n",
              "      <td>3:50:19</td>\n",
              "      <td>4:50:01</td>\n",
              "      <td>5:53:48</td>\n",
              "      <td>6:54:21</td>\n",
              "      <td>0:16:40</td>\n",
              "      <td>-</td>\n",
              "      <td>7:16:59</td>\n",
              "      <td>26408</td>\n",
              "      <td>14436</td>\n",
              "      <td>4774</td>\n",
              "    </tr>\n",
              "    <tr>\n",
              "      <th>26407</th>\n",
              "      <td>26407</td>\n",
              "      <td>27086</td>\n",
              "      <td>Hantel, Johanna</td>\n",
              "      <td>57</td>\n",
              "      <td>F</td>\n",
              "      <td>Malvern</td>\n",
              "      <td>PA</td>\n",
              "      <td>USA</td>\n",
              "      <td>NaN</td>\n",
              "      <td>NaN</td>\n",
              "      <td>...</td>\n",
              "      <td>4:15:21</td>\n",
              "      <td>5:06:37</td>\n",
              "      <td>6:00:33</td>\n",
              "      <td>6:54:38</td>\n",
              "      <td>0:16:47</td>\n",
              "      <td>-</td>\n",
              "      <td>7:19:37</td>\n",
              "      <td>26409</td>\n",
              "      <td>11973</td>\n",
              "      <td>698</td>\n",
              "    </tr>\n",
              "    <tr>\n",
              "      <th>26408</th>\n",
              "      <td>26408</td>\n",
              "      <td>25268</td>\n",
              "      <td>Reilly, Bill</td>\n",
              "      <td>64</td>\n",
              "      <td>M</td>\n",
              "      <td>New York</td>\n",
              "      <td>NY</td>\n",
              "      <td>USA</td>\n",
              "      <td>NaN</td>\n",
              "      <td>MI</td>\n",
              "      <td>...</td>\n",
              "      <td>4:06:10</td>\n",
              "      <td>5:07:09</td>\n",
              "      <td>6:06:07</td>\n",
              "      <td>6:56:08</td>\n",
              "      <td>0:16:49</td>\n",
              "      <td>-</td>\n",
              "      <td>7:20:44</td>\n",
              "      <td>26410</td>\n",
              "      <td>14437</td>\n",
              "      <td>1043</td>\n",
              "    </tr>\n",
              "    <tr>\n",
              "      <th>26409</th>\n",
              "      <td>26409</td>\n",
              "      <td>25266</td>\n",
              "      <td>Rigsby, Scott</td>\n",
              "      <td>48</td>\n",
              "      <td>M</td>\n",
              "      <td>Alpharetta</td>\n",
              "      <td>GA</td>\n",
              "      <td>USA</td>\n",
              "      <td>NaN</td>\n",
              "      <td>MI</td>\n",
              "      <td>...</td>\n",
              "      <td>4:27:14</td>\n",
              "      <td>5:37:13</td>\n",
              "      <td>6:39:07</td>\n",
              "      <td>7:41:23</td>\n",
              "      <td>0:18:15</td>\n",
              "      <td>-</td>\n",
              "      <td>7:58:14</td>\n",
              "      <td>26411</td>\n",
              "      <td>14438</td>\n",
              "      <td>2553</td>\n",
              "    </tr>\n",
              "  </tbody>\n",
              "</table>\n",
              "<p>26410 rows × 25 columns</p>\n",
              "</div>"
            ],
            "text/plain": [
              "       Unnamed: 0    Bib                      Name  Age M/F           City  \\\n",
              "0               0     11           Kirui, Geoffrey   24   M       Keringet   \n",
              "1               1     17               Rupp, Galen   30   M       Portland   \n",
              "2               2     23             Osako, Suguru   25   M   Machida-City   \n",
              "3               3     21          Biwott, Shadrack   32   M  Mammoth Lakes   \n",
              "4               4      9            Chebet, Wilson   31   M       Marakwet   \n",
              "...           ...    ...                       ...  ...  ..            ...   \n",
              "26405       26405  25166  Steinbach, Paula Eyvonne   61   F        Ontario   \n",
              "26406       26406  25178        Avelino, Andrew R.   25   M   Fayetteville   \n",
              "26407       26407  27086           Hantel, Johanna   57   F        Malvern   \n",
              "26408       26408  25268              Reilly, Bill   64   M       New York   \n",
              "26409       26409  25266             Rigsby, Scott   48   M     Alpharetta   \n",
              "\n",
              "      State Country Citizen Unnamed: 9  ...      25K      30K      35K  \\\n",
              "0       NaN     KEN     NaN        NaN  ...  1:16:59  1:33:01  1:48:19   \n",
              "1        OR     USA     NaN        NaN  ...  1:16:59  1:33:01  1:48:19   \n",
              "2       NaN     JPN     NaN        NaN  ...  1:17:00  1:33:01  1:48:31   \n",
              "3        CA     USA     NaN        NaN  ...  1:17:00  1:33:01  1:48:58   \n",
              "4       NaN     KEN     NaN        NaN  ...  1:16:59  1:33:01  1:48:41   \n",
              "...     ...     ...     ...        ...  ...      ...      ...      ...   \n",
              "26405    CA     USA     NaN         MI  ...  4:12:06  5:03:08  5:55:18   \n",
              "26406    NC     USA     NaN         MI  ...  3:50:19  4:50:01  5:53:48   \n",
              "26407    PA     USA     NaN        NaN  ...  4:15:21  5:06:37  6:00:33   \n",
              "26408    NY     USA     NaN         MI  ...  4:06:10  5:07:09  6:06:07   \n",
              "26409    GA     USA     NaN         MI  ...  4:27:14  5:37:13  6:39:07   \n",
              "\n",
              "           40K     Pace Proj Time Official Time Overall Gender Division  \n",
              "0      2:02:53  0:04:57         -       2:09:37       1      1        1  \n",
              "1      2:03:14  0:04:58         -       2:09:58       2      2        2  \n",
              "2      2:03:38  0:04:59         -       2:10:28       3      3        3  \n",
              "3      2:04:35  0:05:03         -       2:12:08       4      4        4  \n",
              "4      2:05:00  0:05:04         -       2:12:35       5      5        5  \n",
              "...        ...      ...       ...           ...     ...    ...      ...  \n",
              "26405  6:46:57  0:16:24         -       7:09:39   26407  11972      344  \n",
              "26406  6:54:21  0:16:40         -       7:16:59   26408  14436     4774  \n",
              "26407  6:54:38  0:16:47         -       7:19:37   26409  11973      698  \n",
              "26408  6:56:08  0:16:49         -       7:20:44   26410  14437     1043  \n",
              "26409  7:41:23  0:18:15         -       7:58:14   26411  14438     2553  \n",
              "\n",
              "[26410 rows x 25 columns]"
            ]
          },
          "metadata": {},
          "execution_count": 75
        }
      ],
      "metadata": {
        "id": "NlQhgpmwAw8v"
      }
    },
    {
      "cell_type": "code",
      "execution_count": null,
      "source": [],
      "outputs": [],
      "metadata": {}
    }
  ]
}