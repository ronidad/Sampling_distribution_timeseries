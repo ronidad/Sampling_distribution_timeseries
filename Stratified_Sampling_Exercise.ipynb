{
  "nbformat": 4,
  "nbformat_minor": 2,
  "metadata": {
    "colab": {
      "name": "Copy of Python Programming: Stratified Sampling Exercise",
      "provenance": [],
      "collapsed_sections": [
        "c_l7pRnbX4Ws",
        "xIswFcWu4X-M"
      ],
      "toc_visible": true
    },
    "kernelspec": {
      "name": "python3",
      "display_name": "Python 3.8.5 64-bit ('base': conda)"
    },
    "language_info": {
      "name": "python",
      "version": "3.8.5",
      "mimetype": "text/x-python",
      "codemirror_mode": {
        "name": "ipython",
        "version": 3
      },
      "pygments_lexer": "ipython3",
      "nbconvert_exporter": "python",
      "file_extension": ".py"
    },
    "interpreter": {
      "hash": "8e24f623c9d976e65e43b538ecbbc4d478524c94015e92b14b460358aba5245a"
    }
  },
  "cells": [
    {
      "cell_type": "markdown",
      "source": [
        "<font color=\"green\">*To start working on this notebook, or any other notebook that we will use in the Moringa Data Science Course, we will need to save our own copy of it. We can do this by clicking File > Save a Copy in Drive. We will then be able to make edits to our own copy of this notebook.*</font>"
      ],
      "metadata": {
        "id": "xyMO0fjEat9e"
      }
    },
    {
      "cell_type": "markdown",
      "source": [
        "# Python Programming: Stratified Sampling Exercise"
      ],
      "metadata": {
        "id": "roBP_xMEBpqE"
      }
    },
    {
      "cell_type": "markdown",
      "source": [
        "## Example"
      ],
      "metadata": {
        "id": "c_l7pRnbX4Ws"
      }
    },
    {
      "cell_type": "markdown",
      "source": [
        "We are going to use the example we looked at in the overview. Our dataset is comprised of different heights of Moringa School students. It has 10,000 entries whereby 60% are female and 40% are Male. We are going to perform stratified sampling on this population so that we can get a sample of 1000 students which has the same proportion as the population."
      ],
      "metadata": {
        "id": "2g6eBvTuD1-M"
      }
    },
    {
      "cell_type": "markdown",
      "source": [
        "**Import relevant Libraries**"
      ],
      "metadata": {
        "id": "RM4m989jCC9m"
      }
    },
    {
      "cell_type": "code",
      "execution_count": 1,
      "source": [
        "import pandas as pd\r\n"
      ],
      "outputs": [],
      "metadata": {
        "id": "SqwTmeFQZqp7"
      }
    },
    {
      "cell_type": "markdown",
      "source": [
        "**Load the Dataset**\n",
        "\n",
        "Here is the dataset we are going to use in this example.[Dataset Download](https://drive.google.com/file/d/1ODcSRSs_isRKCAShFwnMrXdcphed9kYn/view?usp=sharing)"
      ],
      "metadata": {
        "id": "Z02bhgrMCQdc"
      }
    },
    {
      "cell_type": "code",
      "execution_count": 2,
      "source": [
        "# Load the data into a panda dataframe\r\n",
        "data= pd.read_csv('Gender_heights.csv')\r\n",
        "\r\n",
        "# Check out the data\r\n",
        "data\r\n",
        "\r\n"
      ],
      "outputs": [
        {
          "output_type": "execute_result",
          "data": {
            "text/html": [
              "<div>\n",
              "<style scoped>\n",
              "    .dataframe tbody tr th:only-of-type {\n",
              "        vertical-align: middle;\n",
              "    }\n",
              "\n",
              "    .dataframe tbody tr th {\n",
              "        vertical-align: top;\n",
              "    }\n",
              "\n",
              "    .dataframe thead th {\n",
              "        text-align: right;\n",
              "    }\n",
              "</style>\n",
              "<table border=\"1\" class=\"dataframe\">\n",
              "  <thead>\n",
              "    <tr style=\"text-align: right;\">\n",
              "      <th></th>\n",
              "      <th>gender</th>\n",
              "      <th>ht</th>\n",
              "    </tr>\n",
              "  </thead>\n",
              "  <tbody>\n",
              "    <tr>\n",
              "      <th>0</th>\n",
              "      <td>F</td>\n",
              "      <td>55.398043</td>\n",
              "    </tr>\n",
              "    <tr>\n",
              "      <th>1</th>\n",
              "      <td>F</td>\n",
              "      <td>64.975468</td>\n",
              "    </tr>\n",
              "    <tr>\n",
              "      <th>2</th>\n",
              "      <td>F</td>\n",
              "      <td>70.591667</td>\n",
              "    </tr>\n",
              "    <tr>\n",
              "      <th>3</th>\n",
              "      <td>F</td>\n",
              "      <td>63.574479</td>\n",
              "    </tr>\n",
              "    <tr>\n",
              "      <th>4</th>\n",
              "      <td>F</td>\n",
              "      <td>62.535298</td>\n",
              "    </tr>\n",
              "    <tr>\n",
              "      <th>...</th>\n",
              "      <td>...</td>\n",
              "      <td>...</td>\n",
              "    </tr>\n",
              "    <tr>\n",
              "      <th>9995</th>\n",
              "      <td>M</td>\n",
              "      <td>91.485240</td>\n",
              "    </tr>\n",
              "    <tr>\n",
              "      <th>9996</th>\n",
              "      <td>M</td>\n",
              "      <td>94.842755</td>\n",
              "    </tr>\n",
              "    <tr>\n",
              "      <th>9997</th>\n",
              "      <td>M</td>\n",
              "      <td>98.096696</td>\n",
              "    </tr>\n",
              "    <tr>\n",
              "      <th>9998</th>\n",
              "      <td>M</td>\n",
              "      <td>91.478957</td>\n",
              "    </tr>\n",
              "    <tr>\n",
              "      <th>9999</th>\n",
              "      <td>M</td>\n",
              "      <td>88.849197</td>\n",
              "    </tr>\n",
              "  </tbody>\n",
              "</table>\n",
              "<p>10000 rows × 2 columns</p>\n",
              "</div>"
            ],
            "text/plain": [
              "     gender         ht\n",
              "0         F  55.398043\n",
              "1         F  64.975468\n",
              "2         F  70.591667\n",
              "3         F  63.574479\n",
              "4         F  62.535298\n",
              "...     ...        ...\n",
              "9995      M  91.485240\n",
              "9996      M  94.842755\n",
              "9997      M  98.096696\n",
              "9998      M  91.478957\n",
              "9999      M  88.849197\n",
              "\n",
              "[10000 rows x 2 columns]"
            ]
          },
          "metadata": {},
          "execution_count": 2
        }
      ],
      "metadata": {
        "id": "e61iXAYnaNqV"
      }
    },
    {
      "cell_type": "code",
      "execution_count": 3,
      "source": [
        "# Now we will confirm how many Female students and Male students are there in our dataset.\r\n",
        "# To achieve this we will use pandas .value_count() method. This method outputs the number of times a value appears in a column.\r\n",
        "data['gender'].value_counts()"
      ],
      "outputs": [
        {
          "output_type": "execute_result",
          "data": {
            "text/plain": [
              "F    6000\n",
              "M    4000\n",
              "Name: gender, dtype: int64"
            ]
          },
          "metadata": {},
          "execution_count": 3
        }
      ],
      "metadata": {
        "id": "9SDKk4eUGrx_"
      }
    },
    {
      "cell_type": "markdown",
      "source": [
        "Now that we have confirmed that our popluation follows the correct proportion, we are going to first create a random sample of 1000 students without stratification just to see how it behaves."
      ],
      "metadata": {
        "id": "_u_K93F9KrS-"
      }
    },
    {
      "cell_type": "code",
      "execution_count": 4,
      "source": [
        "# To create a random sample from a dataframe we use the pandas sample method. You can read more about it here.https://pandas.pydata.org/pandas-docs/stable/reference/api/pandas.DataFrame.sample.html\r\n",
        "# We pass in an argument called frac which symbolises the fraction of the population we want to use as our sample\r\n",
        "\r\n",
        "# Non stratified sample\r\n",
        "non_strat_output = data.sample(frac=0.1) \r\n",
        "\r\n",
        "# check the proportion of the non_stratified sample\r\n",
        "print(non_strat_output['gender'].value_counts())"
      ],
      "outputs": [
        {
          "output_type": "stream",
          "name": "stdout",
          "text": [
            "F    611\n",
            "M    389\n",
            "Name: gender, dtype: int64\n"
          ]
        }
      ],
      "metadata": {
        "id": "-tWJJwM7LJn6"
      }
    },
    {
      "cell_type": "markdown",
      "source": [
        "Run the code several times, taking note of the proportion of Female and Male. What do you notice?\n",
        "\n",
        "When you run it several time, you'll notice that the proportion varies each time. Although it ranges closely to our desired proportion, its not quite the 60-40 proportion we want. To remedy it, this is where stratified sampling comes in handy.\n",
        "\n",
        "Let's us create a stratified random sample and see how it behaves"
      ],
      "metadata": {
        "id": "9KY2PgCAUsa5"
      }
    },
    {
      "cell_type": "code",
      "execution_count": 5,
      "source": [
        "\r\n",
        "# To create a stratified random sample we'll use pandas groupBy method. Basically what the method does is that it splits our dataset into sets and then applies a function on each subset.\r\n",
        "# In our case, we are going to applies a function that puts each subset into a random sample with a size of 100. The beauty about this method is that it strictly maintains the populations proportion.\r\n",
        "\r\n",
        "# Stratified sample\r\n",
        "strat_output = data.groupby('gender', group_keys=False).apply(lambda grouped_subset : grouped_subset.sample(frac=0.1))\r\n",
        "\r\n",
        "# proportion of the non_stratified sample\r\n",
        "print(strat_output['gender'].value_counts())\r\n",
        "\r\n",
        "# Check the stratified output\r\n",
        "print(strat_output)\r\n",
        "\r\n",
        " "
      ],
      "outputs": [
        {
          "output_type": "stream",
          "name": "stdout",
          "text": [
            "F    600\n",
            "M    400\n",
            "Name: gender, dtype: int64\n",
            "     gender         ht\n",
            "5163      F  65.607549\n",
            "1908      F  55.783403\n",
            "406       F  61.768277\n",
            "3010      F  64.159212\n",
            "2341      F  60.091038\n",
            "...     ...        ...\n",
            "9244      M  80.556220\n",
            "6762      M  88.546318\n",
            "8082      M  87.586912\n",
            "8802      M  93.925940\n",
            "9344      M  88.962717\n",
            "\n",
            "[1000 rows x 2 columns]\n"
          ]
        }
      ],
      "metadata": {
        "id": "Mgxm7zGZWHj5",
        "cellView": "both"
      }
    },
    {
      "cell_type": "markdown",
      "source": [
        "## <font color=\"green\">Challenges</font>"
      ],
      "metadata": {
        "id": "xIswFcWu4X-M"
      }
    },
    {
      "cell_type": "code",
      "execution_count": 6,
      "source": [
        "# Challenge 1\r\n",
        "# ---\r\n",
        "# Question: Moringa school is doing an analysis on how the students perform based on the different programmes that they offer.\r\n",
        "# Given a dataset of 10000 students and you are told that 50% are Core students, 25% are Prep students and 25% are Pre-prep students. \r\n",
        "# Also in the dataset, 60% of the students are Female and the rest are Male. \r\n",
        "# You are tasked with creating a stratified random sample that represents that population.\r\n",
        "# ---\r\n",
        "# Dataset Source = https://drive.google.com/file/d/10THQj3iqund_D5tgypBdeKoc2FZ9pC0S/view?usp=sharing\r\n",
        "# ---\r\n",
        "# \r\n",
        "df = pd.read_csv('Moringa_Students_heights.csv')\r\n",
        "#students = df.groupby('gender', group_keys=False).apply(lambda grouped_subset : grouped_subset.sample(frac=0.1))\r\n",
        "output = df.groupby(['programme','gender'], group_keys=False).apply(lambda grouped_subset : grouped_subset.sample(frac=0.1))\r\n",
        "output[['programme','gender']].value_counts()"
      ],
      "outputs": [
        {
          "output_type": "execute_result",
          "data": {
            "text/plain": [
              "programme  gender\n",
              "Core       F         299\n",
              "           M         201\n",
              "Pre-prep   F         150\n",
              "Prep       F         150\n",
              "Pre-prep   M         100\n",
              "Prep       M         100\n",
              "dtype: int64"
            ]
          },
          "metadata": {},
          "execution_count": 6
        }
      ],
      "metadata": {
        "id": "KKKNoN-pYBAa"
      }
    },
    {
      "cell_type": "code",
      "execution_count": 14,
      "source": [
        "# Challenge 2\r\n",
        "# ---\r\n",
        "# Question: A wine company would like to perform some analysis on a variety of new red wines. \r\n",
        "# Select a stratified sample based on wine quality from the given dataset.\r\n",
        "# ---\r\n",
        "# Dataset url = http://bit.ly/RedWinesDataset\r\n",
        "# ---\r\n",
        "# \r\n",
        "wine = pd.read_csv('winequality-red.csv')\r\n",
        "wine.groupby('quality',group_keys=False).apply(lambda x:x.sample(frac=0.1))"
      ],
      "outputs": [
        {
          "output_type": "execute_result",
          "data": {
            "text/html": [
              "<div>\n",
              "<style scoped>\n",
              "    .dataframe tbody tr th:only-of-type {\n",
              "        vertical-align: middle;\n",
              "    }\n",
              "\n",
              "    .dataframe tbody tr th {\n",
              "        vertical-align: top;\n",
              "    }\n",
              "\n",
              "    .dataframe thead th {\n",
              "        text-align: right;\n",
              "    }\n",
              "</style>\n",
              "<table border=\"1\" class=\"dataframe\">\n",
              "  <thead>\n",
              "    <tr style=\"text-align: right;\">\n",
              "      <th></th>\n",
              "      <th>fixed acidity</th>\n",
              "      <th>volatile acidity</th>\n",
              "      <th>citric acid</th>\n",
              "      <th>residual sugar</th>\n",
              "      <th>chlorides</th>\n",
              "      <th>free sulfur dioxide</th>\n",
              "      <th>total sulfur dioxide</th>\n",
              "      <th>density</th>\n",
              "      <th>pH</th>\n",
              "      <th>sulphates</th>\n",
              "      <th>alcohol</th>\n",
              "      <th>quality</th>\n",
              "    </tr>\n",
              "  </thead>\n",
              "  <tbody>\n",
              "    <tr>\n",
              "      <th>690</th>\n",
              "      <td>7.4</td>\n",
              "      <td>1.185</td>\n",
              "      <td>0.00</td>\n",
              "      <td>4.25</td>\n",
              "      <td>0.097</td>\n",
              "      <td>5.0</td>\n",
              "      <td>14.0</td>\n",
              "      <td>0.99660</td>\n",
              "      <td>3.63</td>\n",
              "      <td>0.54</td>\n",
              "      <td>10.7</td>\n",
              "      <td>3</td>\n",
              "    </tr>\n",
              "    <tr>\n",
              "      <th>600</th>\n",
              "      <td>8.2</td>\n",
              "      <td>0.915</td>\n",
              "      <td>0.27</td>\n",
              "      <td>2.10</td>\n",
              "      <td>0.088</td>\n",
              "      <td>7.0</td>\n",
              "      <td>23.0</td>\n",
              "      <td>0.99620</td>\n",
              "      <td>3.26</td>\n",
              "      <td>0.47</td>\n",
              "      <td>10.0</td>\n",
              "      <td>4</td>\n",
              "    </tr>\n",
              "    <tr>\n",
              "      <th>261</th>\n",
              "      <td>7.0</td>\n",
              "      <td>0.975</td>\n",
              "      <td>0.04</td>\n",
              "      <td>2.00</td>\n",
              "      <td>0.087</td>\n",
              "      <td>12.0</td>\n",
              "      <td>67.0</td>\n",
              "      <td>0.99565</td>\n",
              "      <td>3.35</td>\n",
              "      <td>0.60</td>\n",
              "      <td>9.4</td>\n",
              "      <td>4</td>\n",
              "    </tr>\n",
              "    <tr>\n",
              "      <th>161</th>\n",
              "      <td>7.6</td>\n",
              "      <td>0.680</td>\n",
              "      <td>0.02</td>\n",
              "      <td>1.30</td>\n",
              "      <td>0.072</td>\n",
              "      <td>9.0</td>\n",
              "      <td>20.0</td>\n",
              "      <td>0.99650</td>\n",
              "      <td>3.17</td>\n",
              "      <td>1.08</td>\n",
              "      <td>9.2</td>\n",
              "      <td>4</td>\n",
              "    </tr>\n",
              "    <tr>\n",
              "      <th>18</th>\n",
              "      <td>7.4</td>\n",
              "      <td>0.590</td>\n",
              "      <td>0.08</td>\n",
              "      <td>4.40</td>\n",
              "      <td>0.086</td>\n",
              "      <td>6.0</td>\n",
              "      <td>29.0</td>\n",
              "      <td>0.99740</td>\n",
              "      <td>3.38</td>\n",
              "      <td>0.50</td>\n",
              "      <td>9.0</td>\n",
              "      <td>4</td>\n",
              "    </tr>\n",
              "    <tr>\n",
              "      <th>...</th>\n",
              "      <td>...</td>\n",
              "      <td>...</td>\n",
              "      <td>...</td>\n",
              "      <td>...</td>\n",
              "      <td>...</td>\n",
              "      <td>...</td>\n",
              "      <td>...</td>\n",
              "      <td>...</td>\n",
              "      <td>...</td>\n",
              "      <td>...</td>\n",
              "      <td>...</td>\n",
              "      <td>...</td>\n",
              "    </tr>\n",
              "    <tr>\n",
              "      <th>1024</th>\n",
              "      <td>7.7</td>\n",
              "      <td>0.580</td>\n",
              "      <td>0.01</td>\n",
              "      <td>1.80</td>\n",
              "      <td>0.088</td>\n",
              "      <td>12.0</td>\n",
              "      <td>18.0</td>\n",
              "      <td>0.99568</td>\n",
              "      <td>3.32</td>\n",
              "      <td>0.56</td>\n",
              "      <td>10.5</td>\n",
              "      <td>7</td>\n",
              "    </tr>\n",
              "    <tr>\n",
              "      <th>283</th>\n",
              "      <td>8.9</td>\n",
              "      <td>0.400</td>\n",
              "      <td>0.32</td>\n",
              "      <td>5.60</td>\n",
              "      <td>0.087</td>\n",
              "      <td>10.0</td>\n",
              "      <td>47.0</td>\n",
              "      <td>0.99910</td>\n",
              "      <td>3.38</td>\n",
              "      <td>0.77</td>\n",
              "      <td>10.5</td>\n",
              "      <td>7</td>\n",
              "    </tr>\n",
              "    <tr>\n",
              "      <th>1323</th>\n",
              "      <td>9.1</td>\n",
              "      <td>0.360</td>\n",
              "      <td>0.39</td>\n",
              "      <td>1.80</td>\n",
              "      <td>0.060</td>\n",
              "      <td>21.0</td>\n",
              "      <td>55.0</td>\n",
              "      <td>0.99495</td>\n",
              "      <td>3.18</td>\n",
              "      <td>0.82</td>\n",
              "      <td>11.0</td>\n",
              "      <td>7</td>\n",
              "    </tr>\n",
              "    <tr>\n",
              "      <th>1269</th>\n",
              "      <td>5.5</td>\n",
              "      <td>0.490</td>\n",
              "      <td>0.03</td>\n",
              "      <td>1.80</td>\n",
              "      <td>0.044</td>\n",
              "      <td>28.0</td>\n",
              "      <td>87.0</td>\n",
              "      <td>0.99080</td>\n",
              "      <td>3.50</td>\n",
              "      <td>0.82</td>\n",
              "      <td>14.0</td>\n",
              "      <td>8</td>\n",
              "    </tr>\n",
              "    <tr>\n",
              "      <th>440</th>\n",
              "      <td>12.6</td>\n",
              "      <td>0.310</td>\n",
              "      <td>0.72</td>\n",
              "      <td>2.20</td>\n",
              "      <td>0.072</td>\n",
              "      <td>6.0</td>\n",
              "      <td>29.0</td>\n",
              "      <td>0.99870</td>\n",
              "      <td>2.88</td>\n",
              "      <td>0.82</td>\n",
              "      <td>9.8</td>\n",
              "      <td>8</td>\n",
              "    </tr>\n",
              "  </tbody>\n",
              "</table>\n",
              "<p>160 rows × 12 columns</p>\n",
              "</div>"
            ],
            "text/plain": [
              "      fixed acidity  volatile acidity  citric acid  residual sugar  chlorides  \\\n",
              "690             7.4             1.185         0.00            4.25      0.097   \n",
              "600             8.2             0.915         0.27            2.10      0.088   \n",
              "261             7.0             0.975         0.04            2.00      0.087   \n",
              "161             7.6             0.680         0.02            1.30      0.072   \n",
              "18              7.4             0.590         0.08            4.40      0.086   \n",
              "...             ...               ...          ...             ...        ...   \n",
              "1024            7.7             0.580         0.01            1.80      0.088   \n",
              "283             8.9             0.400         0.32            5.60      0.087   \n",
              "1323            9.1             0.360         0.39            1.80      0.060   \n",
              "1269            5.5             0.490         0.03            1.80      0.044   \n",
              "440            12.6             0.310         0.72            2.20      0.072   \n",
              "\n",
              "      free sulfur dioxide  total sulfur dioxide  density    pH  sulphates  \\\n",
              "690                   5.0                  14.0  0.99660  3.63       0.54   \n",
              "600                   7.0                  23.0  0.99620  3.26       0.47   \n",
              "261                  12.0                  67.0  0.99565  3.35       0.60   \n",
              "161                   9.0                  20.0  0.99650  3.17       1.08   \n",
              "18                    6.0                  29.0  0.99740  3.38       0.50   \n",
              "...                   ...                   ...      ...   ...        ...   \n",
              "1024                 12.0                  18.0  0.99568  3.32       0.56   \n",
              "283                  10.0                  47.0  0.99910  3.38       0.77   \n",
              "1323                 21.0                  55.0  0.99495  3.18       0.82   \n",
              "1269                 28.0                  87.0  0.99080  3.50       0.82   \n",
              "440                   6.0                  29.0  0.99870  2.88       0.82   \n",
              "\n",
              "      alcohol  quality  \n",
              "690      10.7        3  \n",
              "600      10.0        4  \n",
              "261       9.4        4  \n",
              "161       9.2        4  \n",
              "18        9.0        4  \n",
              "...       ...      ...  \n",
              "1024     10.5        7  \n",
              "283      10.5        7  \n",
              "1323     11.0        7  \n",
              "1269     14.0        8  \n",
              "440       9.8        8  \n",
              "\n",
              "[160 rows x 12 columns]"
            ]
          },
          "metadata": {},
          "execution_count": 14
        }
      ],
      "metadata": {
        "id": "A3JYY6qkYOXt"
      }
    },
    {
      "cell_type": "code",
      "execution_count": 17,
      "source": [
        "# Challenge 3\r\n",
        "# ---\r\n",
        "# Question: You have been provided with a list of employees of a certain company with some details about their gender (male/female) \r\n",
        "# and their type of employment (full-time/part-time). The HR team wants to conduct a survey on the working condition \r\n",
        "# that will be representative of the general opinion without interviewing every employee. \r\n",
        "# They request you conduct stratified sampling before any analysis is done. \r\n",
        "# ---\r\n",
        "# Dataset url = http://bit.ly/StratifiedEmployeeDataset\r\n",
        "# ---\r\n",
        "# Hint: Perform EDA first\r\n",
        "# ---\r\n",
        "#\r\n",
        "employees = pd.read_csv('employees.csv')\r\n",
        "employees"
      ],
      "outputs": [
        {
          "output_type": "execute_result",
          "data": {
            "text/html": [
              "<div>\n",
              "<style scoped>\n",
              "    .dataframe tbody tr th:only-of-type {\n",
              "        vertical-align: middle;\n",
              "    }\n",
              "\n",
              "    .dataframe tbody tr th {\n",
              "        vertical-align: top;\n",
              "    }\n",
              "\n",
              "    .dataframe thead th {\n",
              "        text-align: right;\n",
              "    }\n",
              "</style>\n",
              "<table border=\"1\" class=\"dataframe\">\n",
              "  <thead>\n",
              "    <tr style=\"text-align: right;\">\n",
              "      <th></th>\n",
              "      <th>Employee</th>\n",
              "      <th>Gender</th>\n",
              "      <th>Time</th>\n",
              "      <th>Strata</th>\n",
              "    </tr>\n",
              "  </thead>\n",
              "  <tbody>\n",
              "    <tr>\n",
              "      <th>0</th>\n",
              "      <td>Em001</td>\n",
              "      <td>Male</td>\n",
              "      <td>Full-time</td>\n",
              "      <td>MF</td>\n",
              "    </tr>\n",
              "    <tr>\n",
              "      <th>1</th>\n",
              "      <td>Em002</td>\n",
              "      <td>Male</td>\n",
              "      <td>Part-time</td>\n",
              "      <td>MP</td>\n",
              "    </tr>\n",
              "    <tr>\n",
              "      <th>2</th>\n",
              "      <td>Em003</td>\n",
              "      <td>Male</td>\n",
              "      <td>Full-time</td>\n",
              "      <td>MF</td>\n",
              "    </tr>\n",
              "    <tr>\n",
              "      <th>3</th>\n",
              "      <td>Em004</td>\n",
              "      <td>Female</td>\n",
              "      <td>Part-time</td>\n",
              "      <td>FP</td>\n",
              "    </tr>\n",
              "    <tr>\n",
              "      <th>4</th>\n",
              "      <td>Em005</td>\n",
              "      <td>Male</td>\n",
              "      <td>Full-time</td>\n",
              "      <td>MF</td>\n",
              "    </tr>\n",
              "    <tr>\n",
              "      <th>...</th>\n",
              "      <td>...</td>\n",
              "      <td>...</td>\n",
              "      <td>...</td>\n",
              "      <td>...</td>\n",
              "    </tr>\n",
              "    <tr>\n",
              "      <th>92</th>\n",
              "      <td>Em093</td>\n",
              "      <td>Male</td>\n",
              "      <td>Full-time</td>\n",
              "      <td>MF</td>\n",
              "    </tr>\n",
              "    <tr>\n",
              "      <th>93</th>\n",
              "      <td>Em094</td>\n",
              "      <td>Male</td>\n",
              "      <td>Full-time</td>\n",
              "      <td>MF</td>\n",
              "    </tr>\n",
              "    <tr>\n",
              "      <th>94</th>\n",
              "      <td>Em095</td>\n",
              "      <td>Male</td>\n",
              "      <td>Full-time</td>\n",
              "      <td>MF</td>\n",
              "    </tr>\n",
              "    <tr>\n",
              "      <th>95</th>\n",
              "      <td>Em096</td>\n",
              "      <td>Female</td>\n",
              "      <td>Part-time</td>\n",
              "      <td>FP</td>\n",
              "    </tr>\n",
              "    <tr>\n",
              "      <th>96</th>\n",
              "      <td>Em097</td>\n",
              "      <td>Female</td>\n",
              "      <td>Full-time</td>\n",
              "      <td>FF</td>\n",
              "    </tr>\n",
              "  </tbody>\n",
              "</table>\n",
              "<p>97 rows × 4 columns</p>\n",
              "</div>"
            ],
            "text/plain": [
              "   Employee  Gender       Time Strata\n",
              "0     Em001    Male  Full-time     MF\n",
              "1     Em002    Male  Part-time     MP\n",
              "2     Em003    Male  Full-time     MF\n",
              "3     Em004  Female  Part-time     FP\n",
              "4     Em005    Male  Full-time     MF\n",
              "..      ...     ...        ...    ...\n",
              "92    Em093    Male  Full-time     MF\n",
              "93    Em094    Male  Full-time     MF\n",
              "94    Em095    Male  Full-time     MF\n",
              "95    Em096  Female  Part-time     FP\n",
              "96    Em097  Female  Full-time     FF\n",
              "\n",
              "[97 rows x 4 columns]"
            ]
          },
          "metadata": {},
          "execution_count": 17
        }
      ],
      "metadata": {
        "id": "qY0aF-pJZzzs"
      }
    },
    {
      "cell_type": "code",
      "execution_count": null,
      "source": [],
      "outputs": [],
      "metadata": {}
    }
  ]
}