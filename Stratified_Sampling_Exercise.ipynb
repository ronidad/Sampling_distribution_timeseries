{
  "nbformat": 4,
  "nbformat_minor": 0,
  "metadata": {
    "colab": {
      "name": "Copy of Python Programming: Stratified Sampling Exercise",
      "provenance": [],
      "collapsed_sections": [
        "c_l7pRnbX4Ws",
        "xIswFcWu4X-M"
      ],
      "toc_visible": true
    },
    "kernelspec": {
      "name": "python3",
      "display_name": "Python 3"
    }
  },
  "cells": [
    {
      "cell_type": "markdown",
      "metadata": {
        "id": "xyMO0fjEat9e"
      },
      "source": [
        "<font color=\"green\">*To start working on this notebook, or any other notebook that we will use in the Moringa Data Science Course, we will need to save our own copy of it. We can do this by clicking File > Save a Copy in Drive. We will then be able to make edits to our own copy of this notebook.*</font>"
      ]
    },
    {
      "cell_type": "markdown",
      "metadata": {
        "id": "roBP_xMEBpqE"
      },
      "source": [
        "# Python Programming: Stratified Sampling Exercise"
      ]
    },
    {
      "cell_type": "markdown",
      "metadata": {
        "id": "c_l7pRnbX4Ws"
      },
      "source": [
        "## Example"
      ]
    },
    {
      "cell_type": "markdown",
      "metadata": {
        "id": "2g6eBvTuD1-M"
      },
      "source": [
        "We are going to use the example we looked at in the overview. Our dataset is comprised of different heights of Moringa School students. It has 10,000 entries whereby 60% are female and 40% are Male. We are going to perform stratified sampling on this population so that we can get a sample of 1000 students which has the same proportion as the population."
      ]
    },
    {
      "cell_type": "markdown",
      "metadata": {
        "id": "RM4m989jCC9m"
      },
      "source": [
        "**Import relevant Libraries**"
      ]
    },
    {
      "cell_type": "code",
      "metadata": {
        "id": "SqwTmeFQZqp7"
      },
      "source": [
        "import pandas as pd\n"
      ],
      "execution_count": null,
      "outputs": []
    },
    {
      "cell_type": "markdown",
      "metadata": {
        "id": "Z02bhgrMCQdc"
      },
      "source": [
        "**Load the Dataset**\n",
        "\n",
        "Here is the dataset we are going to use in this example.[Dataset Download](https://drive.google.com/file/d/1ODcSRSs_isRKCAShFwnMrXdcphed9kYn/view?usp=sharing)"
      ]
    },
    {
      "cell_type": "code",
      "metadata": {
        "id": "e61iXAYnaNqV"
      },
      "source": [
        "# Load the data into a panda dataframe\n",
        "data= pd.read_csv('Gender_heights.csv')\n",
        "\n",
        "# Check out the data\n",
        "data\n",
        "\n"
      ],
      "execution_count": null,
      "outputs": []
    },
    {
      "cell_type": "code",
      "metadata": {
        "id": "9SDKk4eUGrx_"
      },
      "source": [
        "# Now we will confirm how many Female students and Male students are there in our dataset.\n",
        "# To achieve this we will use pandas .value_count() method. This method outputs the number of times a value appears in a column.\n",
        "data['gender'].value_counts()"
      ],
      "execution_count": null,
      "outputs": []
    },
    {
      "cell_type": "markdown",
      "metadata": {
        "id": "_u_K93F9KrS-"
      },
      "source": [
        "Now that we have confirmed that our popluation follows the correct proportion, we are going to first create a random sample of 1000 students without stratification just to see how it behaves."
      ]
    },
    {
      "cell_type": "code",
      "metadata": {
        "id": "-tWJJwM7LJn6"
      },
      "source": [
        "# To create a random sample from a dataframe we use the pandas sample method. You can read more about it here.https://pandas.pydata.org/pandas-docs/stable/reference/api/pandas.DataFrame.sample.html\n",
        "# We pass in an argument called frac which symbolises the fraction of the population we want to use as our sample\n",
        "\n",
        "# Non stratified sample\n",
        "non_strat_output = data.sample(frac=0.1) \n",
        "\n",
        "# check the proportion of the non_stratified sample\n",
        "print(non_strat_output['gender'].value_counts())"
      ],
      "execution_count": null,
      "outputs": []
    },
    {
      "cell_type": "markdown",
      "metadata": {
        "id": "9KY2PgCAUsa5"
      },
      "source": [
        "Run the code several times, taking note of the proportion of Female and Male. What do you notice?\n",
        "\n",
        "When you run it several time, you'll notice that the proportion varies each time. Although it ranges closely to our desired proportion, its not quite the 60-40 proportion we want. To remedy it, this is where stratified sampling comes in handy.\n",
        "\n",
        "Let's us create a stratified random sample and see how it behaves"
      ]
    },
    {
      "cell_type": "code",
      "metadata": {
        "id": "Mgxm7zGZWHj5",
        "cellView": "both"
      },
      "source": [
        "\n",
        "# To create a stratified random sample we'll use pandas groupBy method. Basically what the method does is that it splits our dataset into sets and then applies a function on each subset.\n",
        "# In our case, we are going to applies a function that puts each subset into a random sample with a size of 100. The beauty about this method is that it strictly maintains the populations proportion.\n",
        "\n",
        "# Stratified sample\n",
        "strat_output = data.groupby('gender', group_keys=False).apply(lambda grouped_subset : grouped_subset.sample(frac=0.1))\n",
        "\n",
        "# proportion of the non_stratified sample\n",
        "print(strat_output['gender'].value_counts())\n",
        "\n",
        "# Check the stratified output\n",
        "print(strat_output)\n",
        "\n",
        " "
      ],
      "execution_count": null,
      "outputs": []
    },
    {
      "cell_type": "markdown",
      "metadata": {
        "id": "xIswFcWu4X-M"
      },
      "source": [
        "## <font color=\"green\">Challenges</font>"
      ]
    },
    {
      "cell_type": "code",
      "metadata": {
        "id": "KKKNoN-pYBAa"
      },
      "source": [
        "# Challenge 1\n",
        "# ---\n",
        "# Question: Moringa school is doing an analysis on how the students perform based on the different programmes that they offer.\n",
        "# Given a dataset of 10000 students and you are told that 50% are Core students, 25% are Prep students and 25% are Pre-prep students. \n",
        "# Also in the dataset, 60% of the students are Female and the rest are Male. \n",
        "# You are tasked with creating a stratified random sample that represents that population.\n",
        "# ---\n",
        "# Dataset Source = https://drive.google.com/file/d/10THQj3iqund_D5tgypBdeKoc2FZ9pC0S/view?usp=sharing\n",
        "# ---\n",
        "# \n",
        "OUR CODE GOES HERE"
      ],
      "execution_count": null,
      "outputs": []
    },
    {
      "cell_type": "code",
      "metadata": {
        "id": "A3JYY6qkYOXt"
      },
      "source": [
        "# Challenge 2\n",
        "# ---\n",
        "# Question: A wine company would like to perform some analysis on a variety of new red wines. \n",
        "# Select a stratified sample based on wine quality from the given dataset.\n",
        "# ---\n",
        "# Dataset url = http://bit.ly/RedWinesDataset\n",
        "# ---\n",
        "# \n",
        "OUR CODE GOES HERE"
      ],
      "execution_count": null,
      "outputs": []
    },
    {
      "cell_type": "code",
      "metadata": {
        "id": "qY0aF-pJZzzs"
      },
      "source": [
        "# Challenge 3\n",
        "# ---\n",
        "# Question: You have been provided with a list of employees of a certain company with some details about their gender (male/female) \n",
        "# and their type of employment (full-time/part-time). The HR team wants to conduct a survey on the working condition \n",
        "# that will be representative of the general opinion without interviewing every employee. \n",
        "# They request you conduct stratified sampling before any analysis is done. \n",
        "# ---\n",
        "# Dataset url = http://bit.ly/StratifiedEmployeeDataset\n",
        "# ---\n",
        "# Hint: Perform EDA first\n",
        "# ---\n",
        "#\n",
        "OUR CODE GOES HERE"
      ],
      "execution_count": null,
      "outputs": []
    }
  ]
}