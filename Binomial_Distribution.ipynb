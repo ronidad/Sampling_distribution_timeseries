{
  "nbformat": 4,
  "nbformat_minor": 2,
  "metadata": {
    "colab": {
      "name": "Python Programming: Binomial Distribution",
      "provenance": [],
      "collapsed_sections": [
        "fR9dRAGlL9Pb",
        "bcx-wRqML__e"
      ],
      "toc_visible": true
    },
    "kernelspec": {
      "name": "python3",
      "display_name": "Python 3.8.5 64-bit ('base': conda)"
    },
    "language_info": {
      "name": "python",
      "version": "3.8.5",
      "mimetype": "text/x-python",
      "codemirror_mode": {
        "name": "ipython",
        "version": 3
      },
      "pygments_lexer": "ipython3",
      "nbconvert_exporter": "python",
      "file_extension": ".py"
    },
    "interpreter": {
      "hash": "8e24f623c9d976e65e43b538ecbbc4d478524c94015e92b14b460358aba5245a"
    }
  },
  "cells": [
    {
      "cell_type": "markdown",
      "source": [
        "<font color=\"green\">*To start working on this notebook, or any other notebook that we will use in the Moringa Data Science Course, we will need to save our own copy of it. We can do this by clicking File > Save a Copy in Drive. We will then be able to make edits to our own copy of this notebook.*</font>"
      ],
      "metadata": {
        "id": "Fbw1Ws2MeAE_"
      }
    },
    {
      "cell_type": "markdown",
      "source": [
        "# Python Programming: Binomial Distribution"
      ],
      "metadata": {
        "id": "RdMxQoxpL5HH"
      }
    },
    {
      "cell_type": "markdown",
      "source": [
        "## Examples"
      ],
      "metadata": {
        "id": "fR9dRAGlL9Pb"
      }
    },
    {
      "cell_type": "code",
      "execution_count": 8,
      "source": [
        "# Example 1\r\n",
        "# ---\r\n",
        "# Question: We want to know, out of a random sample of 10 people, \r\n",
        "# what is the probability of 3 of these 10 people being left handed?\r\n",
        "# ---\r\n",
        "# \r\n",
        "\r\n",
        "# Method 1:\r\n",
        "# Using the probability mass function\r\n",
        "# ----\r\n",
        "# \r\n",
        "\r\n",
        "from math import factorial\r\n",
        "(factorial(10) / (factorial(3) * factorial(7))) * 0.1 ** 3 * 0.9 ** 7\r\n",
        "\r\n",
        "# Method 2:\r\n",
        "# Uncomment the above two lines that you've just ran\r\n",
        "# The parameters are k, n and p \r\n",
        "# ---\r\n",
        "# \r\n",
        "\r\n",
        "from scipy.stats import binom\r\n",
        "binom.pmf(0, 10, 0.1)"
      ],
      "outputs": [
        {
          "output_type": "execute_result",
          "data": {
            "text/plain": [
              "0.34867844009999993"
            ]
          },
          "metadata": {},
          "execution_count": 8
        }
      ],
      "metadata": {
        "id": "NXmQ7Ys_L816"
      }
    },
    {
      "cell_type": "code",
      "execution_count": 9,
      "source": [
        "# Example 2\r\n",
        "# ---\r\n",
        "# Question: Calculate what the probability of 3 or fewer people being left-handed from a selection of 10 people.\r\n",
        "# ---\r\n",
        "# \r\n",
        "\r\n",
        "print(sum([binom.pmf(x, 10, 0.1) for x in range(4)]))\r\n",
        "\r\n",
        "\r\n",
        "# We can see there is almost negligible chance of getting more than 6 left-handed people in a random group of 10 people.\r\n"
      ],
      "outputs": [
        {
          "output_type": "stream",
          "name": "stdout",
          "text": [
            "0.9872048016000006\n"
          ]
        }
      ],
      "metadata": {
        "id": "H2ZY2fXFOtBm"
      }
    },
    {
      "cell_type": "code",
      "execution_count": 10,
      "source": [
        "# Example 3\r\n",
        "# ---\r\n",
        "# Question: Plot the probability results for each value up to all 10 people being left-handed from a random sample of 10 people.\r\n",
        "# ---\r\n",
        "# \r\n",
        "\r\n",
        "import matplotlib.pyplot as plt\r\n",
        "\r\n",
        "plt.bar(range(11), [binom.pmf(x, 10, 0.1) for x in range(11)])\r\n",
        "plt.xlabel('k')\r\n",
        "plt.ylabel('P(X=k)')\r\n",
        "plt.title('Binomial PMF')\r\n",
        "plt.show()"
      ],
      "outputs": [
        {
          "output_type": "display_data",
          "data": {
            "image/png": "[encoded data removed]",
            "text/plain": [
              "<Figure size 432x288 with 1 Axes>"
            ]
          },
          "metadata": {
            "needs_background": "light"
          }
        }
      ],
      "metadata": {
        "id": "XrjgL1rFPEIz"
      }
    },
    {
      "cell_type": "code",
      "execution_count": 13,
      "source": [
        "# Example 4\r\n",
        "# ---\r\n",
        "# We can also specify an array or list of values of  k , and stats.binom.pmf \r\n",
        "# will return an array consisting of all their probabilities.\r\n",
        "# ---\r\n",
        "#\r\n",
        "binom.pmf([2, 3, 4], 10, 0.1)"
      ],
      "outputs": [
        {
          "output_type": "execute_result",
          "data": {
            "text/plain": [
              "array([0.19371024, 0.05739563, 0.01116026])"
            ]
          },
          "metadata": {},
          "execution_count": 13
        }
      ],
      "metadata": {
        "id": "KuXE60QQdaPB"
      }
    },
    {
      "cell_type": "markdown",
      "source": [
        "## <font color=\"green\">Challenges</font>"
      ],
      "metadata": {
        "id": "bcx-wRqML__e"
      }
    },
    {
      "cell_type": "code",
      "execution_count": null,
      "source": [
        "# Challenge 1\r\n",
        "# ---\r\n",
        "# Question: Find the probability of 4 successes in 6 trials for the given probability of success 0.3 on each trial. \r\n",
        "# Round to the nearest hundredth of a percent. 𝑥 = 4, 𝑛 = 6, 𝑝 = 0.3\r\n",
        "# ---\r\n",
        "# \r\n",
        "OUR CODE GOES HERE"
      ],
      "outputs": [],
      "metadata": {
        "id": "RvIQM6TfLyxI"
      }
    },
    {
      "cell_type": "code",
      "execution_count": null,
      "source": [
        "# Challenge 2\r\n",
        "# ---\r\n",
        "# Question: The likelihood that a patient with a heart attack dies of the attack is 0.04 (i.e., 4 of 100 die of the attack). \r\n",
        "# Suppose we have 5 patients who suffer a heart attack, what is the probability that all will survive?\r\n",
        "# ---\r\n",
        "# \r\n",
        "OUR CODE GOES HERE"
      ],
      "outputs": [],
      "metadata": {
        "id": "5e2ghlS9MMgT"
      }
    },
    {
      "cell_type": "code",
      "execution_count": null,
      "source": [
        "# Challenge 3\r\n",
        "# ---\r\n",
        "# Question: A baby toy has 6 batteries. Each battery has a 95% chance of lasting 1 year. \r\n",
        "# 1. What is the probability that all six batteries will last one year? \r\n",
        "# 2. What is the probability that three or less batteries will last one year? \r\n",
        "# 3. Round your answer to the nearest hundredth.\r\n",
        "# ---\r\n",
        "# \r\n",
        "OUR CODE GOES HERE"
      ],
      "outputs": [],
      "metadata": {
        "id": "fIWuCKnQMSoS"
      }
    },
    {
      "cell_type": "code",
      "execution_count": null,
      "source": [
        "# Challenge 4\r\n",
        "# ---\r\n",
        "# Question: The probability that a contact lens is defective is 5%. \r\n",
        "# 1. Find the probability that exactly one contact is defective out of a box of 20. \r\n",
        "# 2. Find the probability that one, two or three contacts are defective out of a box of 20. \r\n",
        "# Round your answer to the nearest hundredth.\r\n",
        "# ---\r\n",
        "# \r\n",
        "OUR CODE GOES HERE"
      ],
      "outputs": [],
      "metadata": {
        "id": "WViIHotuRLZ9"
      }
    },
    {
      "cell_type": "code",
      "execution_count": null,
      "source": [
        "# Challenge 5\r\n",
        "# ---\r\n",
        "# Question: 30% of the Data science students prefer IPs to be on Mondays so they have the weekend to prepare for them. \r\n",
        "# Find the probability that 4 students chosen at random from the class of 30 want the next IP to be on Monday. \r\n",
        "# Round your answer to the nearest hundredth.\r\n",
        "# ---\r\n",
        "# \r\n",
        "OUR CODE GOES HERE"
      ],
      "outputs": [],
      "metadata": {
        "id": "MwDhIiqXRMz2"
      }
    },
    {
      "cell_type": "code",
      "execution_count": null,
      "source": [
        "# Challenge 6\r\n",
        "# ---\r\n",
        "# Question: The probability that a baby is a girl is 50%. \r\n",
        "# 1. What is the probability of exactly 2 female babies in a family of 3 children? \r\n",
        "# 2. What is the probability of 3 male babies in a family of 3 children?\r\n",
        "# Round your answer to the nearest hundredth.\r\n",
        "# ---\r\n",
        "# \r\n",
        "OUR CODE GOES HERE"
      ],
      "outputs": [],
      "metadata": {
        "id": "li1c3yBLROFt"
      }
    },
    {
      "cell_type": "code",
      "execution_count": null,
      "source": [
        "# Challenge 7\r\n",
        "# ---\r\n",
        "# Question: According to the Kenyan Census of 2009, the median annual family income for families in Kasarani is Ksh 560,400. \r\n",
        "# Consider a random sample of 24 Kasarani households.\r\n",
        "# What is the expected number of households with annual incomes less than Ksh. 560,400?\r\n",
        "# What is the probability of getting at least 18 out of the 24 households with annual incomes under Ksh. 560,400?\r\n",
        "# ---\r\n",
        "# \r\n",
        "OUR CODE GOES HERE"
      ],
      "outputs": [],
      "metadata": {
        "id": "VOq5b_uBRPM0"
      }
    },
    {
      "cell_type": "code",
      "execution_count": null,
      "source": [
        "# Challenge 8\r\n",
        "# ---\r\n",
        "# Question: Suppose there are twelve multiple-choice questions in an English class quiz. \r\n",
        "# Each question has five possible answers, and only one of them is correct. \r\n",
        "# Find the probability of having four or less correct answers if a student attempts to answer every question at random.\r\n",
        "# ---\r\n",
        "# \r\n",
        "OUR CODE GOES HERE"
      ],
      "outputs": [],
      "metadata": {
        "id": "AXVR38r6TXkm"
      }
    },
    {
      "cell_type": "code",
      "execution_count": null,
      "source": [
        "# Challenge 9\r\n",
        "# ---\r\n",
        "# Question: A car dealer knows from past experience that he can make a sale to 20% of the customers who he interacts with. \r\n",
        "# What is the probability that, in five randomly selected interactions, he will make a sale to:\r\n",
        "# 1. Exactly three customers?\r\n",
        "# 2. At most one customer?\r\n",
        "# 3. At least one customer?\r\n",
        "# ---\r\n",
        "# \r\n",
        "OUR CODE GOES HERE"
      ],
      "outputs": [],
      "metadata": {
        "id": "Lnk_OBsdTaEz"
      }
    },
    {
      "cell_type": "code",
      "execution_count": null,
      "source": [
        "# Challenge 10\r\n",
        "# ---\r\n",
        "# Question: A poll of twenty voters is taken to determine the number in favor of a certain candidate for mayor. \r\n",
        "# Suppose that 60% of all the city’s voters favor this candidate.\r\n",
        "# 1. Find the probability of x ≤ 11.\r\n",
        "# 2. Find the probability of x > 14.\r\n",
        "# 3. Find the probability of x = 15.\r\n",
        "# ---\r\n",
        "# \r\n",
        "OUR CODE GOES HERE"
      ],
      "outputs": [],
      "metadata": {
        "id": "zYoKSgC1Tai3"
      }
    }
  ]
}