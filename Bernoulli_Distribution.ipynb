{
  "nbformat": 4,
  "nbformat_minor": 2,
  "metadata": {
    "colab": {
      "name": "Python Programming: Bernoulli Distribution",
      "provenance": [],
      "collapsed_sections": [
        "6QCv76lXcqNL",
        "6efjYE3FVAT8",
        "gehY6OctU53T"
      ],
      "toc_visible": true
    },
    "kernelspec": {
      "name": "python3",
      "display_name": "Python 3.8.5 64-bit ('base': conda)"
    },
    "language_info": {
      "name": "python",
      "version": "3.8.5",
      "mimetype": "text/x-python",
      "codemirror_mode": {
        "name": "ipython",
        "version": 3
      },
      "pygments_lexer": "ipython3",
      "nbconvert_exporter": "python",
      "file_extension": ".py"
    },
    "interpreter": {
      "hash": "8e24f623c9d976e65e43b538ecbbc4d478524c94015e92b14b460358aba5245a"
    }
  },
  "cells": [
    {
      "cell_type": "markdown",
      "source": [
        "<font color=\"green\">*To start working on this notebook, or any other notebook that we will use in the Moringa Data Science Course, we will need to save our own copy of it. We can do this by clicking File > Save a Copy in Drive. We will then be able to make edits to our own copy of this notebook.*</font>"
      ],
      "metadata": {
        "id": "Smx00_nCqkDP"
      }
    },
    {
      "cell_type": "markdown",
      "source": [
        "# Python Programming: Bernoulli Distribution"
      ],
      "metadata": {
        "id": "r0XKiS-KU9tp"
      }
    },
    {
      "cell_type": "markdown",
      "source": [
        "## Loading Our Libraries"
      ],
      "metadata": {
        "id": "6QCv76lXcqNL"
      }
    },
    {
      "cell_type": "code",
      "execution_count": 1,
      "source": [
        "# Importing binom from stats module in scipy\r\n",
        "# \r\n",
        "from scipy.stats import binom"
      ],
      "outputs": [],
      "metadata": {
        "id": "zQ_tAs-vcr_2"
      }
    },
    {
      "cell_type": "markdown",
      "source": [
        "## Examples"
      ],
      "metadata": {
        "id": "6efjYE3FVAT8"
      }
    },
    {
      "cell_type": "code",
      "execution_count": 4,
      "source": [
        "# Example 1\r\n",
        "# ---\r\n",
        "# Question: 10 coins are tossed simultaneously where the probability of getting head for each coin is 0.6. \r\n",
        "# 1. Find the probability of getting 1 head. \r\n",
        "# 2. Find the probability of not getting a head. \r\n",
        "# 3. Find the probability of getting 4 heads.\r\n",
        "# ---\r\n",
        "# \r\n",
        "\r\n",
        "# 1. Probability of getting 1 head\r\n",
        "prob_head = 0.6\r\n",
        "print(\"Probability of getting 1 head: \", prob_head) #why is i not binom.pmf(1, 10, 0.6)\r\n",
        "print(binom.pmf(1, 10, 0.6))\r\n",
        "\r\n",
        "# 2. Probability of not getting a head\r\n",
        "print(\"Probability of not getting head: \", 1 - prob_head)\r\n",
        "\r\n",
        "\r\n",
        "# 3. Find the probability of getting 4 heads.\r\n",
        "prob_four_heads = binom.pmf(4, 10, 0.5)\r\n",
        "print(\"Probability of not getting head: \", prob_four_heads)"
      ],
      "outputs": [
        {
          "output_type": "stream",
          "name": "stdout",
          "text": [
            "Probability of getting 1 head:  0.6\n",
            "0.0015728640000000028\n",
            "Probability of not getting head:  0.4\n",
            "Probability of not getting head:  0.20507812500000022\n"
          ]
        }
      ],
      "metadata": {
        "id": "G7Iv8d5MU45f"
      }
    },
    {
      "cell_type": "markdown",
      "source": [
        "## <font color=\"green\">Challenges</font>"
      ],
      "metadata": {
        "id": "gehY6OctU53T"
      }
    },
    {
      "cell_type": "code",
      "execution_count": 3,
      "source": [
        "# Challenge 1 \r\n",
        "# ---\r\n",
        "# Question: If the probability of a bulb being defective is 0.8, then what is the probability of the bulb not being defective.\r\n",
        "# ---\r\n",
        "# \r\n",
        "OUR CODE GOES HERE"
      ],
      "outputs": [
        {
          "output_type": "error",
          "ename": "SyntaxError",
          "evalue": "invalid syntax (<ipython-input-3-1efefef5f303>, line 6)",
          "traceback": [
            "\u001b[1;36m  File \u001b[1;32m\"<ipython-input-3-1efefef5f303>\"\u001b[1;36m, line \u001b[1;32m6\u001b[0m\n\u001b[1;33m    OUR CODE GOES HERE\u001b[0m\n\u001b[1;37m        ^\u001b[0m\n\u001b[1;31mSyntaxError\u001b[0m\u001b[1;31m:\u001b[0m invalid syntax\n"
          ]
        }
      ],
      "metadata": {
        "id": "ogOyDHOLVDe9"
      }
    },
    {
      "cell_type": "code",
      "execution_count": null,
      "source": [
        "# Challenge 2\r\n",
        "# ---\r\n",
        "# Question: In an exam, 10 multiple choice questions are asked where only one out of four answers is correct. \r\n",
        "# 1. Probability of getting an answer correct.\r\n",
        "# 2. Probability of not getting an answer correct.\r\n",
        "# 3. Find the probability of getting 5 out of 10 questions correct in an answer sheet.\r\n",
        "# ---\r\n",
        "# \r\n",
        "OUR CODE GOES HERE"
      ],
      "outputs": [],
      "metadata": {
        "id": "6aC_iwk2VJnk"
      }
    },
    {
      "cell_type": "code",
      "execution_count": null,
      "source": [
        "# Challenge 3\r\n",
        "# ---\r\n",
        "# Question: Find the probability, that within 10 flips of a coin tails will result in 3 times.\r\n",
        "# ---\r\n",
        "# \r\n",
        "OUR CODE GOES HERE"
      ],
      "outputs": [],
      "metadata": {
        "id": "rEtswHfOVLGB"
      }
    },
    {
      "cell_type": "code",
      "execution_count": null,
      "source": [
        "# Challenge 4\r\n",
        "# ---\r\n",
        "# Question: The chances of a team winning a match is 0.7.  \r\n",
        "# 1. Probability of winning a match.\r\n",
        "# 2. Probability of not winning a match.\r\n",
        "# 3. Probability of winning zero matches.\r\n",
        "# 4. Find the probability that the team will win at least one match out of three.\r\n",
        "# ---\r\n",
        "# \r\n",
        "OUR CODE GOES HERE"
      ],
      "outputs": [],
      "metadata": {
        "id": "vpOtsGYBVMhx"
      }
    },
    {
      "cell_type": "code",
      "execution_count": null,
      "source": [
        "# Challenge 5\r\n",
        "# ---\r\n",
        "# Question: The probability a basketball player makes a free throw is 0.72. \r\n",
        "# If he shoots 12 free throws in a game, what is the probability he will make exactly 7 of them?\r\n",
        "# ---\r\n",
        "# \r\n",
        "OUR CODE GOES HERE"
      ],
      "outputs": [],
      "metadata": {
        "id": "J6niSM8sVOmr"
      }
    },
    {
      "cell_type": "code",
      "execution_count": null,
      "source": [
        "# Challenge 6\r\n",
        "# ---\r\n",
        "# Question: A quiz consists of 10 multiple choice questions. Each question has five possible answers. \r\n",
        "# In order to the quiz, a student must get at least 6 correct. \r\n",
        "# If a student guesses at each question, what is theprobability that they will pass the quiz?\r\n",
        "# 1. \r\n",
        "# ---\r\n",
        "# \r\n",
        "OUR CODE GOES HERE"
      ],
      "outputs": [],
      "metadata": {
        "id": "6dZR0IAdVPp4"
      }
    },
    {
      "cell_type": "code",
      "execution_count": null,
      "source": [
        "# Challenge 7\r\n",
        "# ---\r\n",
        "# Question: Calculate the probability of rolling 4 on a dice exactly 5 times in 30 trials.\r\n",
        "# ---\r\n",
        "# \r\n",
        "OUR CODE GOES HERE"
      ],
      "outputs": [],
      "metadata": {
        "id": "KphAbwTMVQ-5"
      }
    },
    {
      "cell_type": "code",
      "execution_count": null,
      "source": [
        "# Challenge 8\r\n",
        "# ---\r\n",
        "# Question:  Suppose that 30% of the restaurants in a certain part of a town are open past 10pm. \r\n",
        "# If 5 restaurants are randomly selected, what is the probability that;\r\n",
        "# 1. None or all of the restaurants are open past 10pm?\r\n",
        "# 2. No more than 3 of the restaurants are open past 10pm?\r\n",
        "# ---\r\n",
        "# \r\n",
        "OUR CODE GOES HERE"
      ],
      "outputs": [],
      "metadata": {
        "id": "cFww5Av1VSEf"
      }
    },
    {
      "cell_type": "code",
      "execution_count": null,
      "source": [
        "# Challenge 9\r\n",
        "# ---\r\n",
        "# Question: Ten percent of computer parts produced by a certain supplier are defective. \r\n",
        "# What is the probability that a sample of 10 parts contains more than 3 defective ones?\r\n",
        "# ---\r\n",
        "# \r\n",
        "OUR CODE GOES HERE"
      ],
      "outputs": [],
      "metadata": {
        "id": "6TVElL0QVTY9"
      }
    },
    {
      "cell_type": "code",
      "execution_count": null,
      "source": [
        "# Challenge 10\r\n",
        "# ---\r\n",
        "# Question: The probability that a DVD player produced by a company is defective is estimated to be 0.09. \r\n",
        "# If a sample of 14 DVD players is selected at random, what is the probability that the sample contains\r\n",
        "# between 2 and 10 defectives inclusive, that is, at least two but no more than 10.\r\n",
        "# ---\r\n",
        "# \r\n",
        "OUR CODE GOES HERE"
      ],
      "outputs": [],
      "metadata": {
        "id": "hzlMfw76VU9t"
      }
    }
  ]
}