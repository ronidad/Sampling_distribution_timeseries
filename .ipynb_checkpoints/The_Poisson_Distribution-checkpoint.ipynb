{
 "cells": [
  {
   "cell_type": "markdown",
   "metadata": {
    "id": "B6aB2C4MohHT"
   },
   "source": [
    "<font color=\"green\">*To start working on this notebook, or any other notebook that we will use in the Moringa Data Science Course, we will need to save our own copy of it. We can do this by clicking File > Save a Copy in Drive. We will then be able to make edits to our own copy of this notebook.*</font>"
   ]
  },
  {
   "cell_type": "markdown",
   "metadata": {
    "id": "SDSkLLGrJqLF"
   },
   "source": [
    "# Python Programming: Poisson Distribution"
   ]
  },
  {
   "cell_type": "markdown",
   "metadata": {
    "id": "qbU9R__X9No0"
   },
   "source": [
    "## Importing Our Libraries"
   ]
  },
  {
   "cell_type": "code",
   "execution_count": 11,
   "metadata": {
    "id": "Uw2dkvyv9Mfo"
   },
   "outputs": [],
   "source": [
    "# \n",
    "# importing poisson from scipy \n",
    "#\n",
    "from scipy.stats import poisson"
   ]
  },
  {
   "cell_type": "markdown",
   "metadata": {
    "id": "IrKYwHaHJsQJ"
   },
   "source": [
    "## 1.0 Basic Questions "
   ]
  },
  {
   "cell_type": "code",
   "execution_count": 12,
   "metadata": {
    "id": "mGhBTwuqJn69"
   },
   "outputs": [
    {
     "name": "stdout",
     "output_type": "stream",
     "text": [
      "The value of the probability density function at x = 25 is f(x) = 0.04458764910826764\n"
     ]
    }
   ],
   "source": [
    "# Example 1\n",
    "# ---\n",
    "# Question: An average of 20 customers walks into a store in a given hour. \n",
    "# What is the probability that 25 customers walk into a store in the next hour?\n",
    "# ---\n",
    "\n",
    "# Assigning the value of the mean of the distribution\n",
    "# This is average number of successes over a given time period. \n",
    "# \n",
    "x = 25\n",
    "\n",
    "# Assigning the value of x (integer) at which the value of the density function is required\n",
    "# This is our random variable; The number of successes we want to find the probability mass of given our knowledge of mean.\n",
    "#\n",
    "lambda_ = 20\n",
    "\n",
    "# The value at x of the probability density function f(x) is:\n",
    "#\n",
    "print(\"The value of the probability density function at x =\", x, \"is f(x) =\", poisson.pmf(x, lambda_))"
   ]
  },
  {
   "cell_type": "markdown",
   "metadata": {
    "id": "2qQrDLNp3cav"
   },
   "source": [
    "### <font color=\"green\">1.0 Challenges</font>"
   ]
  },
  {
   "cell_type": "code",
   "execution_count": 13,
   "metadata": {
    "id": "GcWHfnUX9wqU"
   },
   "outputs": [
    {
     "data": {
      "text/plain": [
       "0.22404180765538775"
      ]
     },
     "execution_count": 13,
     "metadata": {},
     "output_type": "execute_result"
    }
   ],
   "source": [
    "# Challenge 1\n",
    "# ---\n",
    "# Question: A police officer pulls over an average of 3 people for speeding violations per shift. \n",
    "# What is the probability that the officer will pull over two people for speeding violations during their next shift?\n",
    "# ---\n",
    "# Expected Output: 0.22404180765538775\n",
    "# \n",
    "x = 2 #average\n",
    "lambda_ = 3\n",
    "poisson.pmf(x,lambda_)\n"
   ]
  },
  {
   "cell_type": "code",
   "execution_count": 14,
   "metadata": {
    "id": "IT8UssIhKwcO"
   },
   "outputs": [
    {
     "data": {
      "text/plain": [
       "0.18393972058572114"
      ]
     },
     "execution_count": 14,
     "metadata": {},
     "output_type": "execute_result"
    }
   ],
   "source": [
    "# Challenge 2\n",
    "# ---\n",
    "# Question: A fireman fights, on average, 4 fires per month. \n",
    "# What is the probability that a fireman is called to two different fires this week?\n",
    "# ---\n",
    "# Expected Output: 0.18393972058572117\n",
    "# \n",
    "lambda_ = 1\n",
    "#Month has 4 weeks we  change lambda to 4/4 =1\n",
    "x = 2\n",
    "poisson.pmf(x, lambda_)\n"
   ]
  },
  {
   "cell_type": "code",
   "execution_count": 15,
   "metadata": {
    "id": "enLvIGpT3kU2"
   },
   "outputs": [
    {
     "data": {
      "text/plain": [
       "0.3226960697187195"
      ]
     },
     "execution_count": 15,
     "metadata": {},
     "output_type": "execute_result"
    }
   ],
   "source": [
    "# Challenge 3\n",
    "# ---\n",
    "# Question: A car salesman sells an average of 4 cars per week. What is the probability they sell a car today?\n",
    "# ---\n",
    "# Expected Output: 0.32269606971871956\n",
    "#\n",
    "x = 1\n",
    "y = 4/7\n",
    "poisson.pmf(x, y)"
   ]
  },
  {
   "cell_type": "code",
   "execution_count": 16,
   "metadata": {
    "id": "wgQNVn-u3lmX"
   },
   "outputs": [
    {
     "data": {
      "text/plain": [
       "0.18764840049328915"
      ]
     },
     "execution_count": 16,
     "metadata": {},
     "output_type": "execute_result"
    }
   ],
   "source": [
    "# Challenge 4\n",
    "# ---\n",
    "# Question: A website makes an average of 50 sales per day. What is the probability that they make 3 sales in an hour?\n",
    "# ---\n",
    "# Expected Output: 0.18764840049328912\n",
    "# \n",
    "x = 3\n",
    "lambda_ = 50/24\n",
    "poisson.pmf(x, lambda_)\n"
   ]
  },
  {
   "cell_type": "code",
   "execution_count": 17,
   "metadata": {
    "id": "qY7Cmm0t6fN9"
   },
   "outputs": [
    {
     "data": {
      "text/plain": [
       "0.12401361860520911"
      ]
     },
     "execution_count": 17,
     "metadata": {},
     "output_type": "execute_result"
    }
   ],
   "source": [
    "# Challenge 5\n",
    "# ---\n",
    "# Question: A factory produces 250 cars per week (assume that the factory runs day and night all week with no down time). \n",
    "# What is the probability that they produce 3 cars in the next hour?\n",
    "# ---\n",
    "# Expected Output: 0.1240136186052091\n",
    "# \n",
    "x = 3\n",
    "lambda_ = 250/(7*24)\n",
    "poisson.pmf(x, lambda_)"
   ]
  },
  {
   "cell_type": "code",
   "execution_count": 27,
   "metadata": {
    "id": "aQmRucIkiAVg"
   },
   "outputs": [
    {
     "name": "stdout",
     "output_type": "stream",
     "text": [
      "0\n",
      "The probability that a defective laptop has exactly 0 defects is: 6.14421235332821e-06\n",
      "1\n",
      "The probability that a defective laptop has exactly 1 defects is: 7.373054823993849e-05\n",
      "2\n",
      "The probability that a defective laptop has exactly 2 defects is: 0.0004423832894396311\n",
      "3\n",
      "The probability that a defective laptop has exactly 3 defects is: 0.0017695331577585263\n",
      "4\n",
      "The probability that a defective laptop has exactly 4 defects is: 0.005308599473275576\n",
      "0.010500458911837908\n"
     ]
    }
   ],
   "source": [
    "# Challenge 6\n",
    "# ---\n",
    "# Question: \n",
    "# A Laptop Assembly unit is permorning a Defects Analysis, to understand the number of defects that could happen for a given defective laptop. \n",
    "# It is noted from past quality & audit data that 12 defects are noticed on an average for a defective Laptop, calculate\n",
    "# a) Probability that a defective laptop has exactly 5 defects\n",
    "# b) Probability that a defective laptop has less than 5 defects\n",
    "# ---\n",
    "# \n",
    "# \n",
    "x = 5\n",
    "lambda_=12\n",
    "mu=12\n",
    "k=5\n",
    "poisson.cdf(x, lambda_)\n",
    "for i in range(k):\n",
    "    print(i)\n",
    "    print(\"The probability that a defective laptop has exactly\",i,\"defects is:\",poisson.pmf(i, mu))\n",
    "    #print(sum(mu))\n",
    "print(sum([poisson.cdf(x, mu) for x in range(5)])) #will ask about this \n"
   ]
  },
  {
   "cell_type": "code",
   "execution_count": null,
   "metadata": {
    "id": "R5cczyGbiHXf"
   },
   "outputs": [
    {
     "data": {
      "text/plain": [
       "5"
      ]
     },
     "execution_count": 9,
     "metadata": {},
     "output_type": "execute_result"
    }
   ],
   "source": [
    "# Challenge 7\n",
    "# ---\n",
    "# Question: \n",
    "# If on an average, 6 customers arrive every one minute at a bank during the busy hours of working, \n",
    "# a) what is the probability that exactly four customers arrive in a given minute? \n",
    "# b) What is the probability that more than three customers will arrive in a given minute?\n",
    "# ---\n",
    "# \n",
    "# \n",
    "x "
   ]
  },
  {
   "cell_type": "code",
   "execution_count": null,
   "metadata": {
    "id": "SaBvTXvBiIDn"
   },
   "outputs": [],
   "source": [
    "# Challenge 8\n",
    "# ---\n",
    "# Question: \n",
    "# Student arrive at the rate of 72 per hour in the college.\n",
    "# a) What is the probability of 5 student arriving in 4 min?\n",
    "# b) What is the probability of not more than 3 students arriving in 4 min? \n",
    "# b) What is the probability of more than 3 students arriving in 4 min?\n",
    "# ---\n",
    "# \n",
    "# \n"
   ]
  }
 ],
 "metadata": {
  "colab": {
   "collapsed_sections": [
    "qbU9R__X9No0",
    "IrKYwHaHJsQJ"
   ],
   "name": "Python Programming: The Poisson Distribution",
   "provenance": [],
   "toc_visible": true
  },
  "interpreter": {
   "hash": "8e24f623c9d976e65e43b538ecbbc4d478524c94015e92b14b460358aba5245a"
  },
  "kernelspec": {
   "display_name": "Python 3",
   "language": "python",
   "name": "python3"
  },
  "language_info": {
   "codemirror_mode": {
    "name": "ipython",
    "version": 3
   },
   "file_extension": ".py",
   "mimetype": "text/x-python",
   "name": "python",
   "nbconvert_exporter": "python",
   "pygments_lexer": "ipython3",
   "version": "3.8.5"
  }
 },
 "nbformat": 4,
 "nbformat_minor": 2
}
