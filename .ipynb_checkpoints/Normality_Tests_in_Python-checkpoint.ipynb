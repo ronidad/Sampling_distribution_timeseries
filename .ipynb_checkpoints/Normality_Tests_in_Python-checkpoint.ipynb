{
 "cells": [
  {
   "cell_type": "markdown",
   "metadata": {
    "id": "Nipq9BTtJozR"
   },
   "source": [
    "<font color=\"green\">*To start working on this notebook, or any other notebook that we will use in the Moringa Data Science Course, we will need to save our own copy of it. We can do this by clicking File > Save a Copy in Drive. We will then be able to make edits to our own copy of this notebook.*</font>"
   ]
  },
  {
   "cell_type": "markdown",
   "metadata": {
    "id": "KoNHMHC9GK3b"
   },
   "source": [
    "# Monday: Normality Tests with Python"
   ]
  },
  {
   "cell_type": "markdown",
   "metadata": {
    "id": "ghkmT_RKGOnf"
   },
   "source": [
    "When we work with a dataset as a data scientist, it can be very helpful to test the data for normality. The normality tests are statistical processes used to determine if a sample or any group of data fits a standard normal distribution. Normality tests are used to influence the decision when working with a sample of data on whether to use specific kinds of statistical methods during analysis i.e. parametric or nonparametric methods.\n",
    "\n"
   ]
  },
  {
   "cell_type": "markdown",
   "metadata": {
    "id": "e1f8QJ4ARaD8"
   },
   "source": [
    "## Importing our Libraries"
   ]
  },
  {
   "cell_type": "code",
   "execution_count": 3,
   "metadata": {
    "id": "QOluu3PVRdYZ"
   },
   "outputs": [],
   "source": [
    "# Importing matplotlib\n",
    "from matplotlib import pyplot\n",
    "import pandas as pd\n",
    "\n",
    "\n",
    "# Importing functions from numpy\n",
    "from numpy.random import seed\n",
    "from numpy.random import randn"
   ]
  },
  {
   "cell_type": "markdown",
   "metadata": {
    "id": "3JS_Y2SCHA8-"
   },
   "source": [
    "## 1.0 Histogram Plot\n"
   ]
  },
  {
   "cell_type": "code",
   "execution_count": 2,
   "metadata": {
    "id": "xo7KQIWwGJQl"
   },
   "outputs": [
    {
     "data": {
      "image/png": "[encoded data removed]",
      "text/plain": [
       "<Figure size 432x288 with 1 Axes>"
      ]
     },
     "metadata": {
      "needs_background": "light"
     },
     "output_type": "display_data"
    }
   ],
   "source": [
    "# Example 1\n",
    "# ---\n",
    "# A histogram can be used to test whether data is normally distributed. \n",
    "# This test simply consists of looking at the histogram and discerning \n",
    "# whether it approximates the bell curve of a normal distribution.\n",
    "# ---\n",
    "#\n",
    "\n",
    "# generate univariate observations\n",
    "data = 5 * randn(100) + 50\n",
    "\n",
    "# histogram plot\n",
    "pyplot.hist(data)\n",
    "pyplot.show()\n",
    "\n",
    "# From the resulting histogram, we can see a Gaussian-like shape to the data, \n",
    "# that although is not strongly the familiar bell-shape, is a rough approximation."
   ]
  },
  {
   "cell_type": "markdown",
   "metadata": {
    "id": "s3hbig-2IdtH"
   },
   "source": [
    "### <font color=\"green\">1.0 Challenges</font>"
   ]
  },
  {
   "cell_type": "code",
   "execution_count": 10,
   "metadata": {
    "id": "3F2wvadV4KTl"
   },
   "outputs": [
    {
     "data": {
      "text/plain": [
       "(array([  4.,  18.,  57., 133., 242., 274., 168.,  84.,  16.,   3.]),\n",
       " array([ 30.73127898,  44.27992748,  57.82857598,  71.37722448,\n",
       "         84.92587298,  98.47452148, 112.02316998, 125.57181848,\n",
       "        139.12046698, 152.66911548, 166.21776398]),\n",
       " <BarContainer object of 10 artists>)"
      ]
     },
     "execution_count": 10,
     "metadata": {},
     "output_type": "execute_result"
    },
    {
     "data": {
      "image/png": "[encoded data removed]",
      "text/plain": [
       "<Figure size 432x288 with 1 Axes>"
      ]
     },
     "metadata": {
      "needs_background": "light"
     },
     "output_type": "display_data"
    }
   ],
   "source": [
    "# Challenge 1\n",
    "# ---\n",
    "# Question: Determine whether the given data follows a normal distribution using the histogram plot\n",
    "# ---\n",
    "# Dataset url = http://bit.ly/GaussianDistributionDataset1\n",
    "# \n",
    "df = pd.read_csv('http://bit.ly/GaussianDistributionDataset1')\n",
    "df.head()\n",
    "pyplot.hist(df, rwidth=0.9)"
   ]
  },
  {
   "cell_type": "code",
   "execution_count": 9,
   "metadata": {
    "id": "5_NJrZ9dIiTA"
   },
   "outputs": [
    {
     "data": {
      "text/plain": [
       "(array([ 237., 1554., 1803., 1459.,  850.,  238.,   92.,   18.,    3.,\n",
       "           5.]),\n",
       " array([ 949., 1394., 1839., 2284., 2729., 3174., 3619., 4064., 4509.,\n",
       "        4954., 5399.]),\n",
       " <BarContainer object of 10 artists>)"
      ]
     },
     "execution_count": 9,
     "metadata": {},
     "output_type": "execute_result"
    },
    {
     "data": {
      "image/png": "[encoded data removed]",
      "text/plain": [
       "<Figure size 432x288 with 1 Axes>"
      ]
     },
     "metadata": {
      "needs_background": "light"
     },
     "output_type": "display_data"
    }
   ],
   "source": [
    "# Challenge 2\n",
    "# ---\n",
    "# Question: Does the prices data follow a normal distribution? \n",
    "# If your sample follows a normal distribution, does this makes sense to you? Explain why.\n",
    "# If your sample does not follow a normal distribution (e.g., it could be skewed left or right, \n",
    "# have a uniform distribution, or have some other shape), then why might this be the reason?\n",
    "# ---\n",
    "# Dataset url = http://bit.ly/NormalisationPricesDataset\n",
    "# \n",
    "price = pd.read_csv('http://bit.ly/NormalisationPricesDataset')\n",
    "price\n",
    "pyplot.hist(price['price'], rwidth=0.9)"
   ]
  },
  {
   "cell_type": "markdown",
   "metadata": {
    "id": "pmX6aGACHQAX"
   },
   "source": [
    "## 2.0 Quantile-Quantile (Q-Q) Plot\n"
   ]
  },
  {
   "cell_type": "code",
   "execution_count": 11,
   "metadata": {
    "id": "LEfBjhplHYGz"
   },
   "outputs": [
    {
     "data": {
      "image/png": "[encoded data removed]",
      "text/plain": [
       "<Figure size 432x288 with 1 Axes>"
      ]
     },
     "metadata": {
      "needs_background": "light"
     },
     "output_type": "display_data"
    }
   ],
   "source": [
    "# Example 1\n",
    "# ---\n",
    "# The Q-Q plot generates its own sample of the idealized distribution that we are comparing with, \n",
    "# in this case the Gaussian distribution. The idealized samples are divided into groups (e.g. 5), called quantiles. \n",
    "# Each data point in the sample is paired with a similar member from the idealized distribution at the same cumulative distribution.\n",
    "# The resulting points are plotted as a scatter plot with the idealized value on the x-axis and the data sample on the y-axis.\n",
    "# A perfect match for the distribution will be shown by a line of dots on a 45-degree angle from the bottom left of the plot to the top right. \n",
    "# Often a line is drawn on the plot to help make this expectation clear. Deviations by the dots from the line \n",
    "# would show a deviation from the expected distribution.\n",
    "# ---\n",
    "#\n",
    "\n",
    "# Importing libraries to plot our Q-Q plot\n",
    "from statsmodels.graphics.gofplots import qqplot\n",
    "from matplotlib import pyplot\n",
    "\n",
    "# seed the random number generator\n",
    "seed(1)\n",
    "\n",
    "# generate univariate observations\n",
    "data = 5 * randn(100) + 50\n",
    "\n",
    "# q-q plot\n",
    "qqplot(data, line='s')\n",
    "pyplot.show()\n",
    "\n",
    "# The resulting QQ plot shows the scatter plot of points in a diagonal line, \n",
    "# closely fitting the expected diagonal pattern for a sample from a Gaussian distribution.\n",
    "# There are a few small deviations, especially at the bottom of the plot, \n",
    "# which is to be expected given the small data sample."
   ]
  },
  {
   "cell_type": "markdown",
   "metadata": {
    "id": "BYTvjelSIk_A"
   },
   "source": [
    "### <font color=\"green\">2.0 Challenges</font>"
   ]
  },
  {
   "cell_type": "code",
   "execution_count": 15,
   "metadata": {
    "id": "v1mg93rBIpY9"
   },
   "outputs": [
    {
     "data": {
      "image/png": "[encoded data removed]",
      "text/plain": [
       "<Figure size 432x288 with 1 Axes>"
      ]
     },
     "execution_count": 15,
     "metadata": {},
     "output_type": "execute_result"
    },
    {
     "data": {
      "image/png": "[encoded data removed]",
      "text/plain": [
       "<Figure size 432x288 with 1 Axes>"
      ]
     },
     "metadata": {
      "needs_background": "light"
     },
     "output_type": "display_data"
    }
   ],
   "source": [
    "# Challenge 1\n",
    "# ---\n",
    "# Question: Determine whether the given data follows a normal distribution using the Q-Q plot\n",
    "# ---\n",
    "# Dataset url = http://bit.ly/GaussianDistributionDataset2\n",
    "# \n",
    "data = pd.read_csv('http://bit.ly/GaussianDistributionDataset2')\n",
    "data\n",
    "qqplot(data, line='s')"
   ]
  },
  {
   "cell_type": "code",
   "execution_count": 20,
   "metadata": {
    "id": "zVD9y_LB5z90"
   },
   "outputs": [
    {
     "data": {
      "image/png": "[encoded data removed]",
      "text/plain": [
       "<Figure size 432x288 with 1 Axes>"
      ]
     },
     "execution_count": 20,
     "metadata": {},
     "output_type": "execute_result"
    },
    {
     "data": {
      "image/png": "[encoded data removed]",
      "text/plain": [
       "<Figure size 432x288 with 1 Axes>"
      ]
     },
     "metadata": {
      "needs_background": "light"
     },
     "output_type": "display_data"
    }
   ],
   "source": [
    "# Challenge 2\n",
    "# ---\n",
    "# Question: Plot the win by wickets data in the given dataset and watch the curve.\n",
    "# Does the data follow a normal distribution\n",
    "# ---\n",
    "# Dataset url = http://bit.ly/IndianPremierLeagueDataset\n",
    "# \n",
    "pl = pd.read_csv('http://bit.ly/IndianPremierLeagueDataset')\n",
    "qqplot(pl['win_by_wickets'], line='s') "
   ]
  },
  {
   "cell_type": "markdown",
   "metadata": {
    "id": "qWVD5HgDHYlL"
   },
   "source": [
    "## 3.0 The Shapiro-Wilk Test"
   ]
  },
  {
   "cell_type": "code",
   "execution_count": null,
   "metadata": {
    "id": "mHA3iL6kHj_Y"
   },
   "outputs": [],
   "source": [
    "# Example 1\n",
    "# ---\n",
    "# The Shapiro-Wilk test evaluates a data sample and quantifies how likely it is that \n",
    "# the data was drawn from a Gaussian distribution, named for Samuel Shapiro and Martin Wilk.\n",
    "# In practice, the Shapiro-Wilk test is believed to be a reliable test of normality, \n",
    "# although there is some suggestion that the test may be suitable for smaller samples of data, e.g. thousands of observations or fewer.\n",
    "# The shapiro() SciPy function will calculate the Shapiro-Wilk on a given dataset. \n",
    "# The function returns both the W-statistic calculated by the test and the p-value. \n",
    "# ---\n",
    "#\n",
    "\n",
    "# imporing the shapiro function\n",
    "from scipy.stats import shapiro \n",
    "\n",
    "# generating univariate observations\n",
    "data = 5 * randn(100) + 50\n",
    "\n",
    "# testing for normality\n",
    "stat, p = shapiro(data)\n",
    "print('Statistics=%.3f, p=%.3f' % (stat, p))\n",
    "\n",
    "# interpreting\n",
    "alpha = 0.05\n",
    "if p > alpha:\n",
    "\tprint('Sample looks Gaussian')\n",
    "else:\n",
    "\tprint('Sample does not look Gaussian')\n",
    "  \n",
    "# Running the example first calculates the test on the data sample, \n",
    "# then prints the statistic and calculated p-value. \n",
    "# The p-value is interested and finds that the data is likely drawn from a Gaussian distribution."
   ]
  },
  {
   "cell_type": "markdown",
   "metadata": {
    "id": "XbBi43lTItC2"
   },
   "source": [
    "### <font color=\"green\">3.0 Challenges</font>"
   ]
  },
  {
   "cell_type": "code",
   "execution_count": null,
   "metadata": {
    "id": "6gFhqrE5IyLi"
   },
   "outputs": [],
   "source": [
    "# Challenge 1\n",
    "# ---\n",
    "# Question: Using The Shapiro-Wilk Test, determine whether the given data follows a normal distribution.\n",
    "# ---\n",
    "# Dataset url = http://bit.ly/GaussianDistributionDataset3\n",
    "# \n",
    "OUR CODE GOES HERE"
   ]
  },
  {
   "cell_type": "code",
   "execution_count": null,
   "metadata": {
    "id": "a61cTrtF92QC"
   },
   "outputs": [],
   "source": [
    "# Challenge 2\n",
    "# ---\n",
    "# Question: Plot the win by runs data in the given dataset and watch the curve.\n",
    "# Does the data follow a normal distribution\n",
    "# ---\n",
    "# Dataset url = http://bit.ly/IndianPremierLeagueDataset\n",
    "# \n",
    "OUR CODE GOES HERE"
   ]
  },
  {
   "cell_type": "markdown",
   "metadata": {
    "id": "tw66CC27HlKj"
   },
   "source": [
    "## 4.0 Anderson-Darling Test\n"
   ]
  },
  {
   "cell_type": "code",
   "execution_count": null,
   "metadata": {
    "id": "0AxqNBpEHktu"
   },
   "outputs": [],
   "source": [
    "# Example 1\n",
    "# ---\n",
    "# Anderson-Darling Test is a statistical test that can be used to evaluate \n",
    "# whether a data sample comes from one of among many known data samples, named for Theodore Anderson and Donald Darling.\n",
    "# It can be used to check whether a data sample is normal. \n",
    "# The test is a modified version of a more sophisticated nonparametric goodness-of-fit statistical test called the Kolmogorov-Smirnov test.\n",
    "# A feature of the Anderson-Darling test is that it returns a list of critical values rather than a single p-value. \n",
    "# This can provide the basis for a more thorough interpretation of the result.\n",
    "# The anderson() SciPy function implements the Anderson-Darling test. \n",
    "# It takes as parameters the data sample and the name of the distribution to test it against. \n",
    "# By default, the test will check against the Gaussian distribution (dist=’norm’).\n",
    "# ---\n",
    "# \n",
    "\n",
    "# Importing anderson function form scipy \n",
    "from scipy.stats import anderson\n",
    "\n",
    "# seed the random number generator\n",
    "seed(1)\n",
    "\n",
    "# generate univariate observations\n",
    "data = 5 * randn(100) + 50\n",
    "\n",
    "# normality test\n",
    "result = anderson(data)\n",
    "print('Statistic: %.3f' % result.statistic)\n",
    "p = 0\n",
    "for i in range(len(result.critical_values)):\n",
    "\tsl, cv = result.significance_level[i], result.critical_values[i]\n",
    "\tif result.statistic < result.critical_values[i]:\n",
    "\t\tprint('%.3f: %.3f, data looks normal' % (sl, cv))\n",
    "\telse:\n",
    "\t\tprint('%.3f: %.3f, data does not look normal' % (sl, cv))\n",
    "    \n",
    "# Running this example calculates the statistic on the test data set and prints the critical values.\n",
    "# Critical values in a statistical test are a range of pre-defined significance boundaries at which \n",
    "# the H0 can be failed to be rejected if the calculated statistic is less than the critical value. \n",
    "# More on Critical values: http://bit.ly/CriticalValues.\n",
    "# Rather than just a single p-value, the test returns a critical value for a range of different commonly used significance levels.\n",
    "# We can interpret the results by failing to reject the null hypothesis that the data is normal \n",
    "# if the calculated test statistic is less than the critical value at a chosen significance level.\n",
    "# We can see that at each significance level, the test has found that the data follows a normal distribution."
   ]
  },
  {
   "cell_type": "markdown",
   "metadata": {
    "id": "5gSMhKaEI05P"
   },
   "source": [
    "### <font color=\"green\">4.0 Challenges</font>"
   ]
  },
  {
   "cell_type": "code",
   "execution_count": null,
   "metadata": {
    "id": "0_Sh6wYpI42o"
   },
   "outputs": [],
   "source": [
    "# Challenge 1 \n",
    "# ---\n",
    "# Question: Determine whether the given dataset follows a Gaussian Distribution\n",
    "# ---\n",
    "# Dataset url = http://bit.ly/GaussianDistributionDataset4\n",
    "#\n",
    "OUR CODE GOES HERE"
   ]
  },
  {
   "cell_type": "code",
   "execution_count": null,
   "metadata": {
    "id": "3_LtL00f7og6"
   },
   "outputs": [],
   "source": [
    "# Challenge 2\n",
    "# ---\n",
    "# Question: Plot the win by runs data in the given dataset and watch the curve.\n",
    "# Does the data follow a normal distribution\n",
    "# ---\n",
    "# Dataset url = http://bit.ly/IndianPremierLeagueDataset\n",
    "# \n",
    "OUR CODE GOES HERE"
   ]
  },
  {
   "cell_type": "markdown",
   "metadata": {
    "id": "pWrZOT_QHu_5"
   },
   "source": [
    "## 5.0 D’Agostino’s K^2 Test"
   ]
  },
  {
   "cell_type": "code",
   "execution_count": null,
   "metadata": {
    "id": "kx8Q3c6xIMJ9"
   },
   "outputs": [],
   "source": [
    "# Example 1\n",
    "# ---\n",
    "# The D’Agostino’s K^2 test calculates summary statistics from the data, namely kurtosis and skewness, \n",
    "# to determine if the data distribution departs from the normal distribution, named for Ralph D’Agostino.\n",
    "# -> Skew is a quantification of how much a distribution is pushed left or right, a measure of asymmetry in the distribution.\n",
    "# -> Kurtosis quantifies how much of the distribution is in the tail. It is a simple and commonly used statistical test for normality.\n",
    "# The D’Agostino’s K^2 test is available via the normaltest() SciPy function and returns the test statistic and the p-value.\n",
    "# ---\n",
    "\n",
    "from numpy.random import seed\n",
    "from numpy.random import randn\n",
    "from scipy.stats import normaltest\n",
    "# seed the random number generator\n",
    "seed(1)\n",
    "# generate univariate observations\n",
    "data = 5 * randn(100) + 50\n",
    "# normality test\n",
    "stat, p = normaltest(data)\n",
    "print('Statistics=%.3f, p=%.3f' % (stat, p))\n",
    "# interpret\n",
    "alpha = 0.05\n",
    "if p > alpha:\n",
    "\tprint('Sample looks Gaussian')\n",
    "else:\n",
    "\tprint('Sample does not look Gaussian')"
   ]
  },
  {
   "cell_type": "markdown",
   "metadata": {
    "id": "eE37tkQCI8lN"
   },
   "source": [
    "### <font color=\"green\">5.0 Challenges</font>"
   ]
  },
  {
   "cell_type": "code",
   "execution_count": null,
   "metadata": {
    "id": "ga0fWL-6JAbn"
   },
   "outputs": [],
   "source": [
    "# Challenge 1\n",
    "# ---\n",
    "# Question: Using D’Agostino’s K^2 Test, determine whether the given data follows a normal distribution.\n",
    "# ---\n",
    "# Dataset url = http://bit.ly/GaussianDistributionDataset3\n",
    "# \n",
    "OUR CODE GOES HERE"
   ]
  },
  {
   "cell_type": "code",
   "execution_count": null,
   "metadata": {
    "id": "ICPWiAoEJBvc"
   },
   "outputs": [],
   "source": [
    "# Challenge 2\n",
    "# ---\n",
    "# Question: From the fifa dataset given below, does the overall rating data follow a normal distribution? \n",
    "# If your sample follows a normal distribution, does this makes sense to you? Explain why.\n",
    "# If your sample does not follow a normal distribution (e.g., it could be skewed left or right, \n",
    "# have a uniform distribution, or have some other shape), then why might this be the reason?\n",
    "# ---\n",
    "# Dataset url = http://bit.ly/FifaDataset\n",
    "# \n",
    "OUR CODE GOES HERE"
   ]
  },
  {
   "cell_type": "markdown",
   "metadata": {
    "id": "PWPpyTdDIZZ-"
   },
   "source": [
    "## 6.0 Further Readings"
   ]
  },
  {
   "cell_type": "markdown",
   "metadata": {
    "id": "UhPRWBIiH1jp"
   },
   "source": [
    "Other plots that we have not covered in this session but are also worth exploring include:\n",
    "\n",
    "\n",
    "*   Box Plots.\n",
    "*   The Kolmogorov-Smirnov test.\n",
    "\n",
    "\n"
   ]
  }
 ],
 "metadata": {
  "colab": {
   "collapsed_sections": [],
   "name": "Monday: Normality Tests in Python",
   "provenance": [],
   "toc_visible": true
  },
  "interpreter": {
   "hash": "8e24f623c9d976e65e43b538ecbbc4d478524c94015e92b14b460358aba5245a"
  },
  "kernelspec": {
   "display_name": "Python 3",
   "language": "python",
   "name": "python3"
  },
  "language_info": {
   "codemirror_mode": {
    "name": "ipython",
    "version": 3
   },
   "file_extension": ".py",
   "mimetype": "text/x-python",
   "name": "python",
   "nbconvert_exporter": "python",
   "pygments_lexer": "ipython3",
   "version": "3.8.5"
  }
 },
 "nbformat": 4,
 "nbformat_minor": 2
}
