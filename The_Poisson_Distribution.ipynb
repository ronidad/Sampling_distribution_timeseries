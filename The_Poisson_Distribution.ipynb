{
  "nbformat": 4,
  "nbformat_minor": 2,
  "metadata": {
    "colab": {
      "name": "Python Programming: The Poisson Distribution",
      "provenance": [],
      "collapsed_sections": [
        "qbU9R__X9No0",
        "IrKYwHaHJsQJ"
      ],
      "toc_visible": true
    },
    "kernelspec": {
      "name": "python3",
      "display_name": "Python 3.8.5 64-bit ('base': conda)"
    },
    "language_info": {
      "name": "python",
      "version": "3.8.5",
      "mimetype": "text/x-python",
      "codemirror_mode": {
        "name": "ipython",
        "version": 3
      },
      "pygments_lexer": "ipython3",
      "nbconvert_exporter": "python",
      "file_extension": ".py"
    },
    "interpreter": {
      "hash": "8e24f623c9d976e65e43b538ecbbc4d478524c94015e92b14b460358aba5245a"
    }
  },
  "cells": [
    {
      "cell_type": "markdown",
      "source": [
        "<font color=\"green\">*To start working on this notebook, or any other notebook that we will use in the Moringa Data Science Course, we will need to save our own copy of it. We can do this by clicking File > Save a Copy in Drive. We will then be able to make edits to our own copy of this notebook.*</font>"
      ],
      "metadata": {
        "id": "B6aB2C4MohHT"
      }
    },
    {
      "cell_type": "markdown",
      "source": [
        "# Python Programming: Poisson Distribution"
      ],
      "metadata": {
        "id": "SDSkLLGrJqLF"
      }
    },
    {
      "cell_type": "markdown",
      "source": [
        "## Importing Our Libraries"
      ],
      "metadata": {
        "id": "qbU9R__X9No0"
      }
    },
    {
      "cell_type": "code",
      "execution_count": 1,
      "source": [
        "# \r\n",
        "# importing poisson from scipy \r\n",
        "#\r\n",
        "from scipy.stats import poisson"
      ],
      "outputs": [],
      "metadata": {
        "id": "Uw2dkvyv9Mfo"
      }
    },
    {
      "cell_type": "markdown",
      "source": [
        "## 1.0 Basic Questions "
      ],
      "metadata": {
        "id": "IrKYwHaHJsQJ"
      }
    },
    {
      "cell_type": "code",
      "execution_count": 2,
      "source": [
        "# Example 1\r\n",
        "# ---\r\n",
        "# Question: An average of 20 customers walks into a store in a given hour. \r\n",
        "# What is the probability that 25 customers walk into a store in the next hour?\r\n",
        "# ---\r\n",
        "\r\n",
        "# Assigning the value of the mean of the distribution\r\n",
        "# This is average number of successes over a given time period. \r\n",
        "# \r\n",
        "x = 25\r\n",
        "\r\n",
        "# Assigning the value of x (integer) at which the value of the density function is required\r\n",
        "# This is our random variable; The number of successes we want to find the probability mass of given our knowledge of mean.\r\n",
        "#\r\n",
        "lambda_ = 20\r\n",
        "\r\n",
        "# The value at x of the probability density function f(x) is:\r\n",
        "#\r\n",
        "print(\"The value of the probability density function at x =\", x, \"is f(x) =\", poisson.pmf(x, lambda_))"
      ],
      "outputs": [
        {
          "output_type": "stream",
          "name": "stdout",
          "text": [
            "The value of the probability density function at x = 25 is f(x) = 0.04458764910826764\n"
          ]
        }
      ],
      "metadata": {
        "id": "mGhBTwuqJn69"
      }
    },
    {
      "cell_type": "markdown",
      "source": [
        "### <font color=\"green\">1.0 Challenges</font>"
      ],
      "metadata": {
        "id": "2qQrDLNp3cav"
      }
    },
    {
      "cell_type": "code",
      "execution_count": 3,
      "source": [
        "# Challenge 1\r\n",
        "# ---\r\n",
        "# Question: A police officer pulls over an average of 3 people for speeding violations per shift. \r\n",
        "# What is the probability that the officer will pull over two people for speeding violations during their next shift?\r\n",
        "# ---\r\n",
        "# Expected Output: 0.22404180765538775\r\n",
        "# \r\n",
        "x = 2 #average\r\n",
        "lambda_ = 3\r\n",
        "poisson.pmf(x,lambda_)\r\n"
      ],
      "outputs": [
        {
          "output_type": "execute_result",
          "data": {
            "text/plain": [
              "0.22404180765538775"
            ]
          },
          "metadata": {},
          "execution_count": 3
        }
      ],
      "metadata": {
        "id": "GcWHfnUX9wqU"
      }
    },
    {
      "cell_type": "code",
      "execution_count": 4,
      "source": [
        "# Challenge 2\r\n",
        "# ---\r\n",
        "# Question: A fireman fights, on average, 4 fires per month. \r\n",
        "# What is the probability that a fireman is called to two different fires this week?\r\n",
        "# ---\r\n",
        "# Expected Output: 0.18393972058572117\r\n",
        "# \r\n",
        "lambda_ = 1\r\n",
        "#Month has 4 weeks we  change lambda to 4/4 =1\r\n",
        "x = 2\r\n",
        "poisson.pmf(x, lambda_)\r\n"
      ],
      "outputs": [
        {
          "output_type": "execute_result",
          "data": {
            "text/plain": [
              "0.18393972058572114"
            ]
          },
          "metadata": {},
          "execution_count": 4
        }
      ],
      "metadata": {
        "id": "IT8UssIhKwcO"
      }
    },
    {
      "cell_type": "code",
      "execution_count": 5,
      "source": [
        "# Challenge 3\r\n",
        "# ---\r\n",
        "# Question: A car salesman sells an average of 4 cars per week. What is the probability they sell a car today?\r\n",
        "# ---\r\n",
        "# Expected Output: 0.32269606971871956\r\n",
        "#\r\n",
        "x = 1\r\n",
        "y = 4/7\r\n",
        "poisson.pmf(x, y)"
      ],
      "outputs": [
        {
          "output_type": "execute_result",
          "data": {
            "text/plain": [
              "0.3226960697187195"
            ]
          },
          "metadata": {},
          "execution_count": 5
        }
      ],
      "metadata": {
        "id": "enLvIGpT3kU2"
      }
    },
    {
      "cell_type": "code",
      "execution_count": 6,
      "source": [
        "# Challenge 4\r\n",
        "# ---\r\n",
        "# Question: A website makes an average of 50 sales per day. What is the probability that they make 3 sales in an hour?\r\n",
        "# ---\r\n",
        "# Expected Output: 0.18764840049328912\r\n",
        "# \r\n",
        "x = 3\r\n",
        "lambda_ = 50/24\r\n",
        "poisson.pmf(x, lambda_)\r\n"
      ],
      "outputs": [
        {
          "output_type": "execute_result",
          "data": {
            "text/plain": [
              "0.18764840049328915"
            ]
          },
          "metadata": {},
          "execution_count": 6
        }
      ],
      "metadata": {
        "id": "wgQNVn-u3lmX"
      }
    },
    {
      "cell_type": "code",
      "execution_count": 7,
      "source": [
        "# Challenge 5\r\n",
        "# ---\r\n",
        "# Question: A factory produces 250 cars per week (assume that the factory runs day and night all week with no down time). \r\n",
        "# What is the probability that they produce 3 cars in the next hour?\r\n",
        "# ---\r\n",
        "# Expected Output: 0.1240136186052091\r\n",
        "# \r\n",
        "x = 3\r\n",
        "lambda_ = 250/(7*24)\r\n",
        "poisson.pmf(x, lambda_)"
      ],
      "outputs": [
        {
          "output_type": "execute_result",
          "data": {
            "text/plain": [
              "0.12401361860520911"
            ]
          },
          "metadata": {},
          "execution_count": 7
        }
      ],
      "metadata": {
        "id": "qY7Cmm0t6fN9"
      }
    },
    {
      "cell_type": "code",
      "execution_count": 12,
      "source": [
        "# Challenge 6\r\n",
        "# ---\r\n",
        "# Question: \r\n",
        "# A Laptop Assembly unit is permorning a Defects Analysis, to understand the number of defects that could happen for a given defective laptop. \r\n",
        "# It is noted from past quality & audit data that 12 defects are noticed on an average for a defective Laptop, calculate\r\n",
        "# a) Probability that a defective laptop has exactly 5 defects\r\n",
        "# b) Probability that a defective laptop has less than 5 defects\r\n",
        "# ---\r\n",
        "# \r\n",
        "# \r\n",
        "x = 5\r\n",
        "lambda_=12\r\n",
        "mu=12\r\n",
        "k=5\r\n",
        "print(poisson.cdf(x, lambda_))\r\n",
        "# for i in range(k):\r\n",
        "#     print(i)\r\n",
        "#     print(\"The probability that a defective laptop has exactly\",i,\"defects is:\",poisson.pmf(i, mu))\r\n",
        "    #print(sum(mu))\r\n",
        "print(sum([poisson.pmf(x, mu) for x in range(5)])) #will ask about this \r\n"
      ],
      "outputs": [
        {
          "output_type": "stream",
          "name": "stdout",
          "text": [
            "0.020341029416928398\n",
            "0.007600390681067\n"
          ]
        }
      ],
      "metadata": {
        "id": "aQmRucIkiAVg"
      }
    },
    {
      "cell_type": "code",
      "execution_count": 9,
      "source": [
        "# Challenge 7\r\n",
        "# ---\r\n",
        "# Question: \r\n",
        "# If on an average, 6 customers arrive every one minute at a bank during the busy hours of working, \r\n",
        "# a) what is the probability that exactly four customers arrive in a given minute? \r\n",
        "# b) What is the probability that more than three customers will arrive in a given minute?\r\n",
        "# ---\r\n",
        "# \r\n",
        "# \r\n",
        "x "
      ],
      "outputs": [
        {
          "output_type": "execute_result",
          "data": {
            "text/plain": [
              "5"
            ]
          },
          "metadata": {},
          "execution_count": 9
        }
      ],
      "metadata": {
        "id": "R5cczyGbiHXf"
      }
    },
    {
      "cell_type": "code",
      "execution_count": 10,
      "source": [
        "# Challenge 8\r\n",
        "# ---\r\n",
        "# Question: \r\n",
        "# Student arrive at the rate of 72 per hour in the college.\r\n",
        "# a) What is the probability of 5 student arriving in 4 min?\r\n",
        "# b) What is the probability of not more than 3 students arriving in 4 min? \r\n",
        "# b) What is the probability of more than 3 students arriving in 4 min?\r\n",
        "# ---\r\n",
        "# \r\n",
        "# \r\n"
      ],
      "outputs": [],
      "metadata": {
        "id": "SaBvTXvBiIDn"
      }
    }
  ]
}